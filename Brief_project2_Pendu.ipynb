{
 "cells": [
  {
   "cell_type": "markdown",
   "metadata": {},
   "source": [
    "<h3 style = \"text-decoration: underline\"><center> Brief project2: Le jeu du pendu </center></h3>"
   ]
  },
  {
   "cell_type": "markdown",
   "metadata": {},
   "source": [
    "<h5> 1ère Version - Affichage équivalent à celui demandé en exercice </h5>"
   ]
  },
  {
   "cell_type": "markdown",
   "metadata": {},
   "source": [
    "Dans cette première version on gardera l'affichage imposé dans l'exercice. À savoir: à chaque essai les lettres précédemment devinées ne sont pas maintenues mais comme les précédents output donnent bien la position de la lettre devinée cela reste convenable pour le joueur. Il n'y a pas d'utilisation de fonction ni autre objets que des listes. "
   ]
  },
  {
   "cell_type": "code",
   "execution_count": 7,
   "metadata": {},
   "outputs": [
    {
     "name": "stdout",
     "output_type": "stream",
     "text": [
      "Jeu du pendu !\n",
      "Vous avez 6 chances pour deviner le mot suivant: \n",
      "# # # # # \n",
      "Il vous reste 6 chances.\n",
      "Devinez une lettre: a\n",
      "#  A #  #  # \n",
      "Il vous reste 5 chances.\n",
      "Devinez une lettre: e\n",
      "#  #  #  #  # \n",
      "Il vous reste 4 chances.\n",
      "Devinez une lettre: p\n",
      "#  #  P #  # \n",
      "Il vous reste 3 chances.\n",
      "Devinez une lettre: t\n",
      "#  #  #  #  # \n",
      "Il vous reste 2 chances.\n",
      "Devinez une lettre: r\n",
      "#  #  #  #  # \n",
      "Il vous reste 1 chances.\n",
      "Devinez une lettre: n\n",
      "#  #  #  #  N\n",
      "Devinez le mot: japon\n",
      "GAGNÉ !\n"
     ]
    }
   ],
   "source": [
    "# On définit un mot à deviner et on le transforme en lettre majuscule afin d'éviter toute erreur de typographie\n",
    "mot = 'japon'\n",
    "mot = mot.upper()\n",
    "\n",
    "print(\"Jeu du pendu !\")\n",
    "print(\"Vous avez 6 chances pour deviner le mot suivant: \")\n",
    "print(\"# \" * len(mot))\n",
    "\n",
    "# On définit une variable nombre de chances qui sera réduite de 1 à chaque fois que le joueur proposera une lettre\n",
    "nb_chances = 6 \n",
    "\n",
    "while nb_chances > 0: \n",
    "    print(f\"Il vous reste {nb_chances} chances.\")\n",
    "    lettre_devinee = input(\"Devinez une lettre: \")\n",
    "    lettre_devinee = lettre_devinee.upper()\n",
    "\n",
    "# On crée 2 listes, mot_mystere qui correspond au mot à faire deviner avec des #, \n",
    "# et la liste lettre_trouvable qui contiendra toutes les lettres du mot\n",
    "    mot_mystere = []\n",
    "    lettre_trouvable = []\n",
    "    for i in range(len(mot)): \n",
    "        mot_mystere.append(\"#\")\n",
    "        lettre_trouvable.append(mot[i])\n",
    "        \n",
    "# Si la lettre devinée par le joueur est présente dans la liste de mot trouvable à l'indice i alors, \n",
    "# on remplace à cet indice le # par la lettre que le joueur a deviné. Sinon on maintient le #\n",
    "        if lettre_devinee == lettre_trouvable[i]: \n",
    "            mot_mystere[i] = lettre_devinee\n",
    "        \n",
    "        elif lettre_devinee != lettre_trouvable[i]: \n",
    "            mot_mystere[i] = \"# \"\n",
    "\n",
    "# On utilise la méthode \" \".join(mot_mystere) afin d'imprimer le mot de manière plus adaptée\n",
    "# avec un espace et sans les virgules ni les crochets de la liste mot_mystere\n",
    "    print(\" \".join(mot_mystere))\n",
    "\n",
    "# On met à jour notre variable compteur afin que la boucle cesse après 6 essais. \n",
    "    nb_chances = nb_chances - 1\n",
    "\n",
    "# On demande au joueur de deviner le mot et on le transforme en lettre majuscule pour garantir les bonnes comparaisons\n",
    "mot_devine = input(\"Devinez le mot: \")\n",
    "mot_devine = mot_devine.upper()\n",
    "\n",
    "# Si le mot deviné est égal au mot à faire deviner, le joueur gagne sinon il perd. \n",
    "if mot_devine == mot: \n",
    "    print(\"GAGNÉ !\")\n",
    "    \n",
    "else: \n",
    "    print(\"PERDU !\")"
   ]
  },
  {
   "cell_type": "markdown",
   "metadata": {},
   "source": [
    "<h5> 2ème Version - Affichage permanent des précédentes lettres trouvées par l'utilisation d'une chaine de caractère : </h5>"
   ]
  },
  {
   "cell_type": "markdown",
   "metadata": {},
   "source": [
    "Dans cette version, afin de maintenir l'affichage des lettres précédemment devinées on crée une chaine de caractère vide qui sera alimentée de différents slicing du mot mystère et de la lettre. \n",
    "Cette méthode à l'avantage de pouvoir mettre à jour le mot et garder les lettres déjà découvertes à la boucle précédente. "
   ]
  },
  {
   "cell_type": "code",
   "execution_count": 8,
   "metadata": {},
   "outputs": [
    {
     "name": "stdout",
     "output_type": "stream",
     "text": [
      "Jeu du pendu !\n",
      "Vous avez 6 chances pour deviner le mot suivant: \n",
      "# # # # # \n",
      "Il vous reste 6 chances.\n",
      "Devinez une lettre: j\n",
      "J # # # #\n",
      "Il vous reste 5 chances.\n",
      "Devinez une lettre: e\n",
      "J # # # #\n",
      "Il vous reste 4 chances.\n",
      "Devinez une lettre: n\n",
      "J # # # N\n",
      "Il vous reste 3 chances.\n",
      "Devinez une lettre: r\n",
      "J # # # N\n",
      "Il vous reste 2 chances.\n",
      "Devinez une lettre: p\n",
      "J # P # N\n",
      "Il vous reste 1 chances.\n",
      "Devinez une lettre: o\n",
      "J # P O N\n",
      "Devinez le mot: jepon\n",
      "PERDU !\n"
     ]
    }
   ],
   "source": [
    "mot = 'japon'\n",
    "mot = mot.upper()\n",
    "\n",
    "print(\"Jeu du pendu !\")\n",
    "print(\"Vous avez 6 chances pour deviner le mot suivant: \")\n",
    "print(\"# \" * len(mot))\n",
    "\n",
    "nb_chances = 6 \n",
    "\n",
    "# On crée une variable mot_mystere qui est une chaine de caractère vide \n",
    "# Celle-ci  sera peuplée d'autant de # que de lettres dans le mot à faire deviner. \n",
    "mot_mystere = \"\"\n",
    "lettre_trouvable = []\n",
    "for i in range(len(mot)): \n",
    "    mot_mystere = \"#\" *len(mot)\n",
    "    lettre_trouvable.append(mot[i])\n",
    "\n",
    "\n",
    "while nb_chances > 0: \n",
    "    print(f\"Il vous reste {nb_chances} chances.\")\n",
    "    lettre_devinee = input(\"Devinez une lettre: \")\n",
    "    lettre_devinee = lettre_devinee.upper()\n",
    "    \n",
    "    \n",
    "# Si la lettre devinée par le joueur est une des lettres trouvables, alors la lettre devinée prend la place du #\n",
    "# à l'indice où la lettre est devinée. \n",
    "# On construit le mot mystère par concaténation de slicing de mot mystère et de la lettre devinée. \n",
    "    for i in range(len(mot)):\n",
    "        if lettre_devinee == lettre_trouvable[i]: \n",
    "            mot_mystere = mot_mystere[0:i] + lettre_devinee + mot_mystere[i+1:]\n",
    "            \n",
    "        elif lettre_devinee != lettre_trouvable[i]: \n",
    "            mot_mystere = mot_mystere\n",
    "            \n",
    "    print(\" \".join(mot_mystere))\n",
    "            \n",
    "    nb_chances = nb_chances - 1\n",
    "\n",
    "mot_devine = input(\"Devinez le mot: \")\n",
    "mot_devine = mot_devine.upper()\n",
    "\n",
    "if mot_devine == mot: \n",
    "    print(\"GAGNÉ !\")\n",
    "    \n",
    "else: \n",
    "    print(\"PERDU !\")"
   ]
  },
  {
   "cell_type": "markdown",
   "metadata": {},
   "source": [
    "<h5> 3ème Version - Affichage permanent des précédentes lettres trouvée par l'utilisation d'un dictionnaire : </h5>"
   ]
  },
  {
   "cell_type": "markdown",
   "metadata": {},
   "source": [
    "Dans cette version on utilise un dictionnaire qui stocke des pairs de clés-valeurs où la clé est la lettre à faire devinée et la valeur est le # associé."
   ]
  },
  {
   "cell_type": "code",
   "execution_count": 10,
   "metadata": {},
   "outputs": [
    {
     "name": "stdout",
     "output_type": "stream",
     "text": [
      "Veuillez saisir une lettre : j\n",
      "J #  #  #  #  \n",
      "\n",
      "Il vous reste encore 5 essai(s) !\n",
      "Veuillez saisir une lettre : a\n",
      "J A #  #  #  \n",
      "\n",
      "Il vous reste encore 4 essai(s) !\n",
      "Veuillez saisir une lettre : o\n",
      "J A #  O #  \n",
      "\n",
      "Il vous reste encore 3 essai(s) !\n",
      "Veuillez saisir une lettre : i\n",
      "J A #  O #  \n",
      "\n",
      "Il vous reste encore 2 essai(s) !\n",
      "Veuillez saisir une lettre : s\n",
      "J A #  O #  \n",
      "\n",
      "Il vous reste encore 1 essai(s) !\n",
      "Veuillez saisir une lettre : r\n",
      "J A #  O #  \n",
      "\n",
      "Il vous reste encore 0 essai(s) !\n",
      "Devinez le mot: jalon\n",
      "PERDU\n"
     ]
    }
   ],
   "source": [
    "nb_chance = 6\n",
    "mot_mystere = \"JAPON\"\n",
    "list_index_lettre = {}\n",
    "\n",
    "for i in range(0, len(mot_mystere)):\n",
    "    list_index_lettre[mot_mystere[i]] = \"# \"\n",
    "\n",
    "    \n",
    "# Si la lettre devinée est égale à la clé (Lettre) alors on imprime la lettre, sinon on imprime la valeur #\n",
    "while nb_chance != 0:\n",
    "    lettre = input(\"Veuillez saisir une lettre : \")\n",
    "    lettre = lettre.upper()\n",
    "    for cle, valeur in list_index_lettre.items():\n",
    "        if lettre == cle :\n",
    "            list_index_lettre[cle] = lettre\n",
    "    nb_chance -= 1\n",
    "    for cle, valeur in list_index_lettre.items():\n",
    "        print(valeur, end=\" \")\n",
    "    print(\"\\n\")\n",
    "    print(f\"Il vous reste encore {nb_chance} essai(s) !\")\n",
    "        \n",
    "guessed = input(\"Devinez le mot: \")\n",
    "guessed = guessed.upper()\n",
    "if guessed == mot_mystere: \n",
    "    print(\"GAGNÉ\")\n",
    "else:\n",
    "    print(\"PERDU\")"
   ]
  },
  {
   "cell_type": "code",
   "execution_count": null,
   "metadata": {},
   "outputs": [],
   "source": []
  }
 ],
 "metadata": {
  "kernelspec": {
   "display_name": "Python 3",
   "language": "python",
   "name": "python3"
  },
  "language_info": {
   "codemirror_mode": {
    "name": "ipython",
    "version": 3
   },
   "file_extension": ".py",
   "mimetype": "text/x-python",
   "name": "python",
   "nbconvert_exporter": "python",
   "pygments_lexer": "ipython3",
   "version": "3.8.5"
  }
 },
 "nbformat": 4,
 "nbformat_minor": 4
}
