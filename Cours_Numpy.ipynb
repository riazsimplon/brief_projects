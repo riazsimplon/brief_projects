{
 "cells": [
  {
   "cell_type": "markdown",
   "metadata": {},
   "source": [
    "<h3 style =\"text-decoration:underline\"><center>Les tableaux Numpy<center></h3>"
   ]
  },
  {
   "cell_type": "markdown",
   "metadata": {},
   "source": [
    "<h3 style =\"text-decoration: underline\"> Créer un ndarray</h3>"
   ]
  },
  {
   "cell_type": "markdown",
   "metadata": {},
   "source": [
    "<h3 style=\"text-decoration:underline\">Créer un ndarray à partir de listes</h3>"
   ]
  },
  {
   "cell_type": "code",
   "execution_count": 1,
   "metadata": {},
   "outputs": [],
   "source": [
    "import numpy as np "
   ]
  },
  {
   "cell_type": "code",
   "execution_count": 3,
   "metadata": {},
   "outputs": [
    {
     "name": "stdout",
     "output_type": "stream",
     "text": [
      "[ 1  2  3  4  5  6  7  8  9 10 11 12 13 14 15 16 17 18 19 20]\n"
     ]
    },
    {
     "data": {
      "text/plain": [
       "numpy.ndarray"
      ]
     },
     "execution_count": 3,
     "metadata": {},
     "output_type": "execute_result"
    }
   ],
   "source": [
    "notre_tableau = np.array([1,2,3,4,5,6,7,8,9,10,11,12,13,14,15,16,17,18,19,20])\n",
    "print(notre_tableau)\n",
    "type(notre_tableau)"
   ]
  },
  {
   "cell_type": "code",
   "execution_count": 5,
   "metadata": {},
   "outputs": [
    {
     "name": "stdout",
     "output_type": "stream",
     "text": [
      "[[1 2 3]\n",
      " [4 5 6]\n",
      " [7 8 9]]\n"
     ]
    }
   ],
   "source": [
    "mon_array_bidim = np.array([[1,2,3],[4,5,6],[7,8,9]])\n",
    "print(mon_array_bidim)"
   ]
  },
  {
   "cell_type": "code",
   "execution_count": 6,
   "metadata": {},
   "outputs": [
    {
     "name": "stdout",
     "output_type": "stream",
     "text": [
      "3\n",
      "3\n",
      "[1 4 7]\n",
      "[1 2 3]\n"
     ]
    }
   ],
   "source": [
    "# Pour sélectionner la valeur de la troisième colonne première ligne\n",
    "print(mon_array_bidim[0][2])\n",
    "print(mon_array_bidim[0,2])\n",
    "\n",
    "# Pour sélectionner la première ligne\n",
    "print(mon_array_bidim[:,0])\n",
    "\n",
    "# Pour sélectionner la première colonne \n",
    "print(mon_array_bidim[0,:])"
   ]
  },
  {
   "cell_type": "markdown",
   "metadata": {},
   "source": [
    "### Il s'agit d'un tableau d'entiers ici, et on ne pourrait pas changer une valeur par un type caractère par exemple, cela génèrerait une erreur. "
   ]
  },
  {
   "cell_type": "code",
   "execution_count": 7,
   "metadata": {},
   "outputs": [
    {
     "ename": "ValueError",
     "evalue": "invalid literal for int() with base 10: 'texte'",
     "output_type": "error",
     "traceback": [
      "\u001b[0;31m---------------------------------------------------------------------------\u001b[0m",
      "\u001b[0;31mValueError\u001b[0m                                Traceback (most recent call last)",
      "\u001b[0;32m<ipython-input-7-63fe1204d1ff>\u001b[0m in \u001b[0;36m<module>\u001b[0;34m\u001b[0m\n\u001b[0;32m----> 1\u001b[0;31m \u001b[0mmon_array_bidim\u001b[0m\u001b[0;34m[\u001b[0m\u001b[0;36m0\u001b[0m\u001b[0;34m,\u001b[0m\u001b[0;36m0\u001b[0m\u001b[0;34m]\u001b[0m \u001b[0;34m=\u001b[0m \u001b[0;34m\"texte\"\u001b[0m\u001b[0;34m\u001b[0m\u001b[0;34m\u001b[0m\u001b[0m\n\u001b[0m",
      "\u001b[0;31mValueError\u001b[0m: invalid literal for int() with base 10: 'texte'"
     ]
    }
   ],
   "source": [
    "mon_array_bidim[0,0] = \"texte\""
   ]
  },
  {
   "cell_type": "code",
   "execution_count": 10,
   "metadata": {},
   "outputs": [
    {
     "name": "stdout",
     "output_type": "stream",
     "text": [
      "[[0 2 3]\n",
      " [4 5 6]\n",
      " [7 8 9]]\n"
     ]
    }
   ],
   "source": [
    "mon_array_bidim[0,0] = 0.5\n",
    "print(mon_array_bidim)"
   ]
  },
  {
   "cell_type": "code",
   "execution_count": 12,
   "metadata": {},
   "outputs": [
    {
     "name": "stdout",
     "output_type": "stream",
     "text": [
      "[[10  2  3]\n",
      " [ 4  5  6]\n",
      " [ 7  8  9]]\n"
     ]
    }
   ],
   "source": [
    "mon_array_bidim[0,0] = 10\n",
    "print(mon_array_bidim)"
   ]
  },
  {
   "cell_type": "code",
   "execution_count": 13,
   "metadata": {},
   "outputs": [
    {
     "data": {
      "text/plain": [
       "dtype('int64')"
      ]
     },
     "execution_count": 13,
     "metadata": {},
     "output_type": "execute_result"
    }
   ],
   "source": [
    "mon_array_bidim.dtype   # int 64 for float int32 for integer"
   ]
  },
  {
   "cell_type": "code",
   "execution_count": 14,
   "metadata": {},
   "outputs": [
    {
     "name": "stdout",
     "output_type": "stream",
     "text": [
      "[[1.5 2.  3. ]\n",
      " [4.  5.2 6. ]\n",
      " [7.  8.  9.1]]\n"
     ]
    },
    {
     "data": {
      "text/plain": [
       "dtype('float64')"
      ]
     },
     "execution_count": 14,
     "metadata": {},
     "output_type": "execute_result"
    }
   ],
   "source": [
    "mon_array_bidim = np.array([[1.5, 2,3],[4,5.2,6],[7,8,9.1]], dtype =float)\n",
    "print(mon_array_bidim)\n",
    "mon_array_bidim.dtype"
   ]
  },
  {
   "cell_type": "markdown",
   "metadata": {},
   "source": [
    "<h3 style =\"text-decoration: underline\">1.1.2 Créer un ndarray grâce à des fonctions numpy</h3>"
   ]
  },
  {
   "cell_type": "code",
   "execution_count": 16,
   "metadata": {},
   "outputs": [
    {
     "name": "stdout",
     "output_type": "stream",
     "text": [
      "[[0. 0. 0. 0. 0. 0.]\n",
      " [0. 0. 0. 0. 0. 0.]\n",
      " [0. 0. 0. 0. 0. 0.]\n",
      " [0. 0. 0. 0. 0. 0.]]\n"
     ]
    }
   ],
   "source": [
    "# np.zeros() permet de créer un ndarray dont l'ensemble des éléments correspondent à la valeur zéro.\n",
    "mon_array_zeros = np.zeros((4,6))\n",
    "print(mon_array_zeros)"
   ]
  },
  {
   "cell_type": "code",
   "execution_count": 17,
   "metadata": {},
   "outputs": [
    {
     "name": "stdout",
     "output_type": "stream",
     "text": [
      "[[0 0 0 0 0 0]\n",
      " [0 0 0 0 0 0]\n",
      " [0 0 0 0 0 0]\n",
      " [0 0 0 0 0 0]]\n"
     ]
    }
   ],
   "source": [
    "# Si on veut, on peut spéficier que le tableau est de type int et non float\n",
    "mon_array_zeros = np.zeros((4,6), dtype = int)\n",
    "print(mon_array_zeros)"
   ]
  },
  {
   "cell_type": "code",
   "execution_count": 18,
   "metadata": {},
   "outputs": [
    {
     "name": "stdout",
     "output_type": "stream",
     "text": [
      "[[1 1 1 1 1 1]\n",
      " [1 1 1 1 1 1]\n",
      " [1 1 1 1 1 1]\n",
      " [1 1 1 1 1 1]]\n"
     ]
    }
   ],
   "source": [
    "mon_array_ones = np.ones((4,6), dtype = int)\n",
    "print(mon_array_ones)"
   ]
  },
  {
   "cell_type": "code",
   "execution_count": 19,
   "metadata": {},
   "outputs": [
    {
     "name": "stdout",
     "output_type": "stream",
     "text": [
      "[[0.69603239 0.13139639]\n",
      " [0.88015611 0.69968534]\n",
      " [0.06876784 0.01324471]\n",
      " [0.62641248 0.30278958]]\n"
     ]
    }
   ],
   "source": [
    "# np.random.random() permet de créer un ndarray dont les valeurs des éléments sont aléatoires\n",
    "mon_array_random = np.random.random((4,2))\n",
    "print(mon_array_random)"
   ]
  },
  {
   "cell_type": "markdown",
   "metadata": {},
   "source": [
    "<h3 style=\"text-decoration:underline\">1.1.3 Créer un ndarray à partir d'un fichier</h3>"
   ]
  },
  {
   "cell_type": "markdown",
   "metadata": {},
   "source": [
    "Le fichier iris.csv contient des informations sur la longueur et la largeur des pétales et des sépales de 150 iris, sous forme de nombre réels, float. \n",
    "Les longueurs et les larguers de pétales et sépales permettent de différencier trois espèces d'Iris, représentées dans la 5ème colonne par des réels plutôt que le nom de l'espèse, étant donné que les ndarrays n'acceptent pas des type de données différents. \n",
    "L'espèce 1.0 correspond à l'espèce Setosa\n",
    "L'espèce 2.0 correspond à l'espèse Versicolor \n",
    "L'espèse 3.0 correspond à l'espèce Virginica"
   ]
  },
  {
   "cell_type": "code",
   "execution_count": 24,
   "metadata": {},
   "outputs": [
    {
     "name": "stdout",
     "output_type": "stream",
     "text": [
      "[[5.1 3.5 1.4 0.2 1. ]\n",
      " [4.9 3.  1.4 0.2 1. ]\n",
      " [4.7 3.2 1.3 0.2 1. ]\n",
      " [4.6 3.1 1.5 0.2 1. ]\n",
      " [5.  3.6 1.4 0.2 1. ]\n",
      " [5.4 3.9 1.7 0.4 1. ]\n",
      " [4.6 3.4 1.4 0.3 1. ]\n",
      " [5.  3.4 1.5 0.2 1. ]\n",
      " [4.4 2.9 1.4 0.2 1. ]\n",
      " [4.9 3.1 1.5 0.1 1. ]\n",
      " [5.4 3.7 1.5 0.2 1. ]\n",
      " [4.8 3.4 1.6 0.2 1. ]\n",
      " [4.8 3.  1.4 0.1 1. ]\n",
      " [4.3 3.  1.1 0.1 1. ]\n",
      " [5.8 4.  1.2 0.2 1. ]\n",
      " [5.7 4.4 1.5 0.4 1. ]\n",
      " [5.4 3.9 1.3 0.4 1. ]\n",
      " [5.1 3.5 1.4 0.3 1. ]\n",
      " [5.7 3.8 1.7 0.3 1. ]\n",
      " [5.1 3.8 1.5 0.3 1. ]\n",
      " [5.4 3.4 1.7 0.2 1. ]\n",
      " [5.1 3.7 1.5 0.4 1. ]\n",
      " [4.6 3.6 1.  0.2 1. ]\n",
      " [5.1 3.3 1.7 0.5 1. ]\n",
      " [4.8 3.4 1.9 0.2 1. ]\n",
      " [5.  3.  1.6 0.2 1. ]\n",
      " [5.  3.4 1.6 0.4 1. ]\n",
      " [5.2 3.5 1.5 0.2 1. ]\n",
      " [5.2 3.4 1.4 0.2 1. ]\n",
      " [4.7 3.2 1.6 0.2 1. ]\n",
      " [4.8 3.1 1.6 0.2 1. ]\n",
      " [5.4 3.4 1.5 0.4 1. ]\n",
      " [5.2 4.1 1.5 0.1 1. ]\n",
      " [5.5 4.2 1.4 0.2 1. ]\n",
      " [4.9 3.1 1.5 0.2 1. ]\n",
      " [5.  3.2 1.2 0.2 1. ]\n",
      " [5.5 3.5 1.3 0.2 1. ]\n",
      " [4.9 3.6 1.4 0.1 1. ]\n",
      " [4.4 3.  1.3 0.2 1. ]\n",
      " [5.1 3.4 1.5 0.2 1. ]\n",
      " [5.  3.5 1.3 0.3 1. ]\n",
      " [4.5 2.3 1.3 0.3 1. ]\n",
      " [4.4 3.2 1.3 0.2 1. ]\n",
      " [5.  3.5 1.6 0.6 1. ]\n",
      " [5.1 3.8 1.9 0.4 1. ]\n",
      " [4.8 3.  1.4 0.3 1. ]\n",
      " [5.1 3.8 1.6 0.2 1. ]\n",
      " [4.6 3.2 1.4 0.2 1. ]\n",
      " [5.3 3.7 1.5 0.2 1. ]\n",
      " [5.  3.3 1.4 0.2 1. ]\n",
      " [7.  3.2 4.7 1.4 2. ]\n",
      " [6.4 3.2 4.5 1.5 2. ]\n",
      " [6.9 3.1 4.9 1.5 2. ]\n",
      " [5.5 2.3 4.  1.3 2. ]\n",
      " [6.5 2.8 4.6 1.5 2. ]\n",
      " [5.7 2.8 4.5 1.3 2. ]\n",
      " [6.3 3.3 4.7 1.6 2. ]\n",
      " [4.9 2.4 3.3 1.  2. ]\n",
      " [6.6 2.9 4.6 1.3 2. ]\n",
      " [5.2 2.7 3.9 1.4 2. ]\n",
      " [5.  2.  3.5 1.  2. ]\n",
      " [5.9 3.  4.2 1.5 2. ]\n",
      " [6.  2.2 4.  1.  2. ]\n",
      " [6.1 2.9 4.7 1.4 2. ]\n",
      " [5.6 2.9 3.6 1.3 2. ]\n",
      " [6.7 3.1 4.4 1.4 2. ]\n",
      " [5.6 3.  4.5 1.5 2. ]\n",
      " [5.8 2.7 4.1 1.  2. ]\n",
      " [6.2 2.2 4.5 1.5 2. ]\n",
      " [5.6 2.5 3.9 1.1 2. ]\n",
      " [5.9 3.2 4.8 1.8 2. ]\n",
      " [6.1 2.8 4.  1.3 2. ]\n",
      " [6.3 2.5 4.9 1.5 2. ]\n",
      " [6.1 2.8 4.7 1.2 2. ]\n",
      " [6.4 2.9 4.3 1.3 2. ]\n",
      " [6.6 3.  4.4 1.4 2. ]\n",
      " [6.8 2.8 4.8 1.4 2. ]\n",
      " [6.7 3.  5.  1.7 2. ]\n",
      " [6.  2.9 4.5 1.5 2. ]\n",
      " [5.7 2.6 3.5 1.  2. ]\n",
      " [5.5 2.4 3.8 1.1 2. ]\n",
      " [5.5 2.4 3.7 1.  2. ]\n",
      " [5.8 2.7 3.9 1.2 2. ]\n",
      " [6.  2.7 5.1 1.6 2. ]\n",
      " [5.4 3.  4.5 1.5 2. ]\n",
      " [6.  3.4 4.5 1.6 2. ]\n",
      " [6.7 3.1 4.7 1.5 2. ]\n",
      " [6.3 2.3 4.4 1.3 2. ]\n",
      " [5.6 3.  4.1 1.3 2. ]\n",
      " [5.5 2.5 4.  1.3 2. ]\n",
      " [5.5 2.6 4.4 1.2 2. ]\n",
      " [6.1 3.  4.6 1.4 2. ]\n",
      " [5.8 2.6 4.  1.2 2. ]\n",
      " [5.  2.3 3.3 1.  2. ]\n",
      " [5.6 2.7 4.2 1.3 2. ]\n",
      " [5.7 3.  4.2 1.2 2. ]\n",
      " [5.7 2.9 4.2 1.3 2. ]\n",
      " [6.2 2.9 4.3 1.3 2. ]\n",
      " [5.1 2.5 3.  1.1 2. ]\n",
      " [5.7 2.8 4.1 1.3 2. ]\n",
      " [6.3 3.3 6.  2.5 3. ]\n",
      " [5.8 2.7 5.1 1.9 3. ]\n",
      " [7.1 3.  5.9 2.1 3. ]\n",
      " [6.3 2.9 5.6 1.8 3. ]\n",
      " [6.5 3.  5.8 2.2 3. ]\n",
      " [7.6 3.  6.6 2.1 3. ]\n",
      " [4.9 2.5 4.5 1.7 3. ]\n",
      " [7.3 2.9 6.3 1.8 3. ]\n",
      " [6.7 2.5 5.8 1.8 3. ]\n",
      " [7.2 3.6 6.1 2.5 3. ]\n",
      " [6.5 3.2 5.1 2.  3. ]\n",
      " [6.4 2.7 5.3 1.9 3. ]\n",
      " [6.8 3.  5.5 2.1 3. ]\n",
      " [5.7 2.5 5.  2.  3. ]\n",
      " [5.8 2.8 5.1 2.4 3. ]\n",
      " [6.4 3.2 5.3 2.3 3. ]\n",
      " [6.5 3.  5.5 1.8 3. ]\n",
      " [7.7 3.8 6.7 2.2 3. ]\n",
      " [7.7 2.6 6.9 2.3 3. ]\n",
      " [6.  2.2 5.  1.5 3. ]\n",
      " [6.9 3.2 5.7 2.3 3. ]\n",
      " [5.6 2.8 4.9 2.  3. ]\n",
      " [7.7 2.8 6.7 2.  3. ]\n",
      " [6.3 2.7 4.9 1.8 3. ]\n",
      " [6.7 3.3 5.7 2.1 3. ]\n",
      " [7.2 3.2 6.  1.8 3. ]\n",
      " [6.2 2.8 4.8 1.8 3. ]\n",
      " [6.1 3.  4.9 1.8 3. ]\n",
      " [6.4 2.8 5.6 2.1 3. ]\n",
      " [7.2 3.  5.8 1.6 3. ]\n",
      " [7.4 2.8 6.1 1.9 3. ]\n",
      " [7.9 3.8 6.4 2.  3. ]\n",
      " [6.4 2.8 5.6 2.2 3. ]\n",
      " [6.3 2.8 5.1 1.5 3. ]\n",
      " [6.1 2.6 5.6 1.4 3. ]\n",
      " [7.7 3.  6.1 2.3 3. ]\n",
      " [6.3 3.4 5.6 2.4 3. ]\n",
      " [6.4 3.1 5.5 1.8 3. ]\n",
      " [6.  3.  4.8 1.8 3. ]\n",
      " [6.9 3.1 5.4 2.1 3. ]\n",
      " [6.7 3.1 5.6 2.4 3. ]\n",
      " [6.9 3.1 5.1 2.3 3. ]\n",
      " [5.8 2.7 5.1 1.9 3. ]\n",
      " [6.8 3.2 5.9 2.3 3. ]\n",
      " [6.7 3.3 5.7 2.5 3. ]\n",
      " [6.7 3.  5.2 2.3 3. ]\n",
      " [6.3 2.5 5.  1.9 3. ]\n",
      " [6.5 3.  5.2 2.  3. ]\n",
      " [6.2 3.4 5.4 2.3 3. ]\n",
      " [5.9 3.  5.1 1.8 3. ]]\n",
      "float64\n"
     ]
    },
    {
     "data": {
      "text/plain": [
       "numpy.ndarray"
      ]
     },
     "execution_count": 24,
     "metadata": {},
     "output_type": "execute_result"
    }
   ],
   "source": [
    "import numpy as np \n",
    "# Il faut que le fichier jupyter soit ua même endroit que le fichier a lire, ou spécifier le dosser dans lequel il est.\n",
    "# %pwd to get the current path\n",
    "iris = np.genfromtxt(\"iris.csv\", delimiter=\";\", skip_header=True, encoding = \"latin-1\")\n",
    "print(iris)\n",
    "print(iris.dtype)\n",
    "type(iris)"
   ]
  },
  {
   "cell_type": "code",
   "execution_count": 25,
   "metadata": {},
   "outputs": [],
   "source": [
    "np.savetxt(\"iris_2.csv\", iris, delimiter=\";\")"
   ]
  },
  {
   "cell_type": "markdown",
   "metadata": {},
   "source": [
    "<h3 style =\"text-decoration:underline\"> 1.2. Indexation</h3>"
   ]
  },
  {
   "cell_type": "markdown",
   "metadata": {},
   "source": [
    "<h3 style=\"text-decoration:underline\">1.2.1. Indexation simple :</h3>"
   ]
  },
  {
   "cell_type": "code",
   "execution_count": 26,
   "metadata": {},
   "outputs": [
    {
     "data": {
      "text/plain": [
       "3.2"
      ]
     },
     "execution_count": 26,
     "metadata": {},
     "output_type": "execute_result"
    }
   ],
   "source": [
    "iris[2,1]"
   ]
  },
  {
   "cell_type": "markdown",
   "metadata": {},
   "source": [
    "<h3>Modifions la valeur à la 3ème ligne 2ème colonne</h3>"
   ]
  },
  {
   "cell_type": "code",
   "execution_count": 28,
   "metadata": {},
   "outputs": [
    {
     "data": {
      "text/plain": [
       "4.0"
      ]
     },
     "execution_count": 28,
     "metadata": {},
     "output_type": "execute_result"
    }
   ],
   "source": [
    "iris[2,1] = 4\n",
    "iris[2,1]"
   ]
  },
  {
   "cell_type": "code",
   "execution_count": 30,
   "metadata": {},
   "outputs": [
    {
     "data": {
      "text/plain": [
       "3.2"
      ]
     },
     "execution_count": 30,
     "metadata": {},
     "output_type": "execute_result"
    }
   ],
   "source": [
    "iris[2,1] = 3.2\n",
    "iris[2,1]"
   ]
  },
  {
   "cell_type": "markdown",
   "metadata": {},
   "source": [
    "<h3 style =\"text-decoration: underline\">1.2.2 Indexation booléenne</h3>"
   ]
  },
  {
   "cell_type": "markdown",
   "metadata": {},
   "source": [
    "Pour sélectionner une portion du tableau on peut utiliser des masques booléens."
   ]
  },
  {
   "cell_type": "markdown",
   "metadata": {},
   "source": [
    "Rappels les opérateurs relationnels, permettent de comparer des valeurs: ==, !=; <, >, <=, >=. \n",
    "Si on ne souhaite garder que les vlaeurs supérieurs à 2 dans ce tableau, peu importe la colonne:"
   ]
  },
  {
   "cell_type": "code",
   "execution_count": 32,
   "metadata": {},
   "outputs": [
    {
     "data": {
      "text/plain": [
       "array([5.1, 3.5, 4.9, 3. , 4.7, 3.2, 4.6, 3.1, 5. , 3.6, 5.4, 3.9, 4.6,\n",
       "       3.4, 5. , 3.4, 4.4, 2.9, 4.9, 3.1, 5.4, 3.7, 4.8, 3.4, 4.8, 3. ,\n",
       "       4.3, 3. , 5.8, 4. , 5.7, 4.4, 5.4, 3.9, 5.1, 3.5, 5.7, 3.8, 5.1,\n",
       "       3.8, 5.4, 3.4, 5.1, 3.7, 4.6, 3.6, 5.1, 3.3, 4.8, 3.4, 5. , 3. ,\n",
       "       5. , 3.4, 5.2, 3.5, 5.2, 3.4, 4.7, 3.2, 4.8, 3.1, 5.4, 3.4, 5.2,\n",
       "       4.1, 5.5, 4.2, 4.9, 3.1, 5. , 3.2, 5.5, 3.5, 4.9, 3.6, 4.4, 3. ,\n",
       "       5.1, 3.4, 5. , 3.5, 4.5, 2.3, 4.4, 3.2, 5. , 3.5, 5.1, 3.8, 4.8,\n",
       "       3. , 5.1, 3.8, 4.6, 3.2, 5.3, 3.7, 5. , 3.3, 7. , 3.2, 4.7, 6.4,\n",
       "       3.2, 4.5, 6.9, 3.1, 4.9, 5.5, 2.3, 4. , 6.5, 2.8, 4.6, 5.7, 2.8,\n",
       "       4.5, 6.3, 3.3, 4.7, 4.9, 2.4, 3.3, 6.6, 2.9, 4.6, 5.2, 2.7, 3.9,\n",
       "       5. , 3.5, 5.9, 3. , 4.2, 6. , 2.2, 4. , 6.1, 2.9, 4.7, 5.6, 2.9,\n",
       "       3.6, 6.7, 3.1, 4.4, 5.6, 3. , 4.5, 5.8, 2.7, 4.1, 6.2, 2.2, 4.5,\n",
       "       5.6, 2.5, 3.9, 5.9, 3.2, 4.8, 6.1, 2.8, 4. , 6.3, 2.5, 4.9, 6.1,\n",
       "       2.8, 4.7, 6.4, 2.9, 4.3, 6.6, 3. , 4.4, 6.8, 2.8, 4.8, 6.7, 3. ,\n",
       "       5. , 6. , 2.9, 4.5, 5.7, 2.6, 3.5, 5.5, 2.4, 3.8, 5.5, 2.4, 3.7,\n",
       "       5.8, 2.7, 3.9, 6. , 2.7, 5.1, 5.4, 3. , 4.5, 6. , 3.4, 4.5, 6.7,\n",
       "       3.1, 4.7, 6.3, 2.3, 4.4, 5.6, 3. , 4.1, 5.5, 2.5, 4. , 5.5, 2.6,\n",
       "       4.4, 6.1, 3. , 4.6, 5.8, 2.6, 4. , 5. , 2.3, 3.3, 5.6, 2.7, 4.2,\n",
       "       5.7, 3. , 4.2, 5.7, 2.9, 4.2, 6.2, 2.9, 4.3, 5.1, 2.5, 3. , 5.7,\n",
       "       2.8, 4.1, 6.3, 3.3, 6. , 2.5, 3. , 5.8, 2.7, 5.1, 3. , 7.1, 3. ,\n",
       "       5.9, 2.1, 3. , 6.3, 2.9, 5.6, 3. , 6.5, 3. , 5.8, 2.2, 3. , 7.6,\n",
       "       3. , 6.6, 2.1, 3. , 4.9, 2.5, 4.5, 3. , 7.3, 2.9, 6.3, 3. , 6.7,\n",
       "       2.5, 5.8, 3. , 7.2, 3.6, 6.1, 2.5, 3. , 6.5, 3.2, 5.1, 3. , 6.4,\n",
       "       2.7, 5.3, 3. , 6.8, 3. , 5.5, 2.1, 3. , 5.7, 2.5, 5. , 3. , 5.8,\n",
       "       2.8, 5.1, 2.4, 3. , 6.4, 3.2, 5.3, 2.3, 3. , 6.5, 3. , 5.5, 3. ,\n",
       "       7.7, 3.8, 6.7, 2.2, 3. , 7.7, 2.6, 6.9, 2.3, 3. , 6. , 2.2, 5. ,\n",
       "       3. , 6.9, 3.2, 5.7, 2.3, 3. , 5.6, 2.8, 4.9, 3. , 7.7, 2.8, 6.7,\n",
       "       3. , 6.3, 2.7, 4.9, 3. , 6.7, 3.3, 5.7, 2.1, 3. , 7.2, 3.2, 6. ,\n",
       "       3. , 6.2, 2.8, 4.8, 3. , 6.1, 3. , 4.9, 3. , 6.4, 2.8, 5.6, 2.1,\n",
       "       3. , 7.2, 3. , 5.8, 3. , 7.4, 2.8, 6.1, 3. , 7.9, 3.8, 6.4, 3. ,\n",
       "       6.4, 2.8, 5.6, 2.2, 3. , 6.3, 2.8, 5.1, 3. , 6.1, 2.6, 5.6, 3. ,\n",
       "       7.7, 3. , 6.1, 2.3, 3. , 6.3, 3.4, 5.6, 2.4, 3. , 6.4, 3.1, 5.5,\n",
       "       3. , 6. , 3. , 4.8, 3. , 6.9, 3.1, 5.4, 2.1, 3. , 6.7, 3.1, 5.6,\n",
       "       2.4, 3. , 6.9, 3.1, 5.1, 2.3, 3. , 5.8, 2.7, 5.1, 3. , 6.8, 3.2,\n",
       "       5.9, 2.3, 3. , 6.7, 3.3, 5.7, 2.5, 3. , 6.7, 3. , 5.2, 2.3, 3. ,\n",
       "       6.3, 2.5, 5. , 3. , 6.5, 3. , 5.2, 3. , 6.2, 3.4, 5.4, 2.3, 3. ,\n",
       "       5.9, 3. , 5.1, 3. ])"
      ]
     },
     "execution_count": 32,
     "metadata": {},
     "output_type": "execute_result"
    }
   ],
   "source": [
    "iris[iris>2]"
   ]
  },
  {
   "cell_type": "code",
   "execution_count": 33,
   "metadata": {},
   "outputs": [
    {
     "data": {
      "text/plain": [
       "(472,)"
      ]
     },
     "execution_count": 33,
     "metadata": {},
     "output_type": "execute_result"
    }
   ],
   "source": [
    " #Tableau unidimensionnel donne donc une seule valeur.\n",
    "iris[iris>2].shape"
   ]
  },
  {
   "cell_type": "code",
   "execution_count": 35,
   "metadata": {},
   "outputs": [
    {
     "data": {
      "text/plain": [
       "472"
      ]
     },
     "execution_count": 35,
     "metadata": {},
     "output_type": "execute_result"
    }
   ],
   "source": [
    "# On peut choisir le nombre d'élement d'une colonne particulière\n",
    "iris[iris>2].shape[0]"
   ]
  },
  {
   "cell_type": "markdown",
   "metadata": {},
   "source": [
    "L'expression booléenne qui génère un nouveau tableau, de même dimension que le tableau iris, mais qui contient uniquement des booléens, True ou False"
   ]
  },
  {
   "cell_type": "code",
   "execution_count": 36,
   "metadata": {},
   "outputs": [
    {
     "data": {
      "text/plain": [
       "array([[ True,  True, False, False, False],\n",
       "       [ True,  True, False, False, False],\n",
       "       [ True,  True, False, False, False],\n",
       "       [ True,  True, False, False, False],\n",
       "       [ True,  True, False, False, False],\n",
       "       [ True,  True, False, False, False],\n",
       "       [ True,  True, False, False, False],\n",
       "       [ True,  True, False, False, False],\n",
       "       [ True,  True, False, False, False],\n",
       "       [ True,  True, False, False, False],\n",
       "       [ True,  True, False, False, False],\n",
       "       [ True,  True, False, False, False],\n",
       "       [ True,  True, False, False, False],\n",
       "       [ True,  True, False, False, False],\n",
       "       [ True,  True, False, False, False],\n",
       "       [ True,  True, False, False, False],\n",
       "       [ True,  True, False, False, False],\n",
       "       [ True,  True, False, False, False],\n",
       "       [ True,  True, False, False, False],\n",
       "       [ True,  True, False, False, False],\n",
       "       [ True,  True, False, False, False],\n",
       "       [ True,  True, False, False, False],\n",
       "       [ True,  True, False, False, False],\n",
       "       [ True,  True, False, False, False],\n",
       "       [ True,  True, False, False, False],\n",
       "       [ True,  True, False, False, False],\n",
       "       [ True,  True, False, False, False],\n",
       "       [ True,  True, False, False, False],\n",
       "       [ True,  True, False, False, False],\n",
       "       [ True,  True, False, False, False],\n",
       "       [ True,  True, False, False, False],\n",
       "       [ True,  True, False, False, False],\n",
       "       [ True,  True, False, False, False],\n",
       "       [ True,  True, False, False, False],\n",
       "       [ True,  True, False, False, False],\n",
       "       [ True,  True, False, False, False],\n",
       "       [ True,  True, False, False, False],\n",
       "       [ True,  True, False, False, False],\n",
       "       [ True,  True, False, False, False],\n",
       "       [ True,  True, False, False, False],\n",
       "       [ True,  True, False, False, False],\n",
       "       [ True,  True, False, False, False],\n",
       "       [ True,  True, False, False, False],\n",
       "       [ True,  True, False, False, False],\n",
       "       [ True,  True, False, False, False],\n",
       "       [ True,  True, False, False, False],\n",
       "       [ True,  True, False, False, False],\n",
       "       [ True,  True, False, False, False],\n",
       "       [ True,  True, False, False, False],\n",
       "       [ True,  True, False, False, False],\n",
       "       [ True,  True,  True, False, False],\n",
       "       [ True,  True,  True, False, False],\n",
       "       [ True,  True,  True, False, False],\n",
       "       [ True,  True,  True, False, False],\n",
       "       [ True,  True,  True, False, False],\n",
       "       [ True,  True,  True, False, False],\n",
       "       [ True,  True,  True, False, False],\n",
       "       [ True,  True,  True, False, False],\n",
       "       [ True,  True,  True, False, False],\n",
       "       [ True,  True,  True, False, False],\n",
       "       [ True, False,  True, False, False],\n",
       "       [ True,  True,  True, False, False],\n",
       "       [ True,  True,  True, False, False],\n",
       "       [ True,  True,  True, False, False],\n",
       "       [ True,  True,  True, False, False],\n",
       "       [ True,  True,  True, False, False],\n",
       "       [ True,  True,  True, False, False],\n",
       "       [ True,  True,  True, False, False],\n",
       "       [ True,  True,  True, False, False],\n",
       "       [ True,  True,  True, False, False],\n",
       "       [ True,  True,  True, False, False],\n",
       "       [ True,  True,  True, False, False],\n",
       "       [ True,  True,  True, False, False],\n",
       "       [ True,  True,  True, False, False],\n",
       "       [ True,  True,  True, False, False],\n",
       "       [ True,  True,  True, False, False],\n",
       "       [ True,  True,  True, False, False],\n",
       "       [ True,  True,  True, False, False],\n",
       "       [ True,  True,  True, False, False],\n",
       "       [ True,  True,  True, False, False],\n",
       "       [ True,  True,  True, False, False],\n",
       "       [ True,  True,  True, False, False],\n",
       "       [ True,  True,  True, False, False],\n",
       "       [ True,  True,  True, False, False],\n",
       "       [ True,  True,  True, False, False],\n",
       "       [ True,  True,  True, False, False],\n",
       "       [ True,  True,  True, False, False],\n",
       "       [ True,  True,  True, False, False],\n",
       "       [ True,  True,  True, False, False],\n",
       "       [ True,  True,  True, False, False],\n",
       "       [ True,  True,  True, False, False],\n",
       "       [ True,  True,  True, False, False],\n",
       "       [ True,  True,  True, False, False],\n",
       "       [ True,  True,  True, False, False],\n",
       "       [ True,  True,  True, False, False],\n",
       "       [ True,  True,  True, False, False],\n",
       "       [ True,  True,  True, False, False],\n",
       "       [ True,  True,  True, False, False],\n",
       "       [ True,  True,  True, False, False],\n",
       "       [ True,  True,  True, False, False],\n",
       "       [ True,  True,  True,  True,  True],\n",
       "       [ True,  True,  True, False,  True],\n",
       "       [ True,  True,  True,  True,  True],\n",
       "       [ True,  True,  True, False,  True],\n",
       "       [ True,  True,  True,  True,  True],\n",
       "       [ True,  True,  True,  True,  True],\n",
       "       [ True,  True,  True, False,  True],\n",
       "       [ True,  True,  True, False,  True],\n",
       "       [ True,  True,  True, False,  True],\n",
       "       [ True,  True,  True,  True,  True],\n",
       "       [ True,  True,  True, False,  True],\n",
       "       [ True,  True,  True, False,  True],\n",
       "       [ True,  True,  True,  True,  True],\n",
       "       [ True,  True,  True, False,  True],\n",
       "       [ True,  True,  True,  True,  True],\n",
       "       [ True,  True,  True,  True,  True],\n",
       "       [ True,  True,  True, False,  True],\n",
       "       [ True,  True,  True,  True,  True],\n",
       "       [ True,  True,  True,  True,  True],\n",
       "       [ True,  True,  True, False,  True],\n",
       "       [ True,  True,  True,  True,  True],\n",
       "       [ True,  True,  True, False,  True],\n",
       "       [ True,  True,  True, False,  True],\n",
       "       [ True,  True,  True, False,  True],\n",
       "       [ True,  True,  True,  True,  True],\n",
       "       [ True,  True,  True, False,  True],\n",
       "       [ True,  True,  True, False,  True],\n",
       "       [ True,  True,  True, False,  True],\n",
       "       [ True,  True,  True,  True,  True],\n",
       "       [ True,  True,  True, False,  True],\n",
       "       [ True,  True,  True, False,  True],\n",
       "       [ True,  True,  True, False,  True],\n",
       "       [ True,  True,  True,  True,  True],\n",
       "       [ True,  True,  True, False,  True],\n",
       "       [ True,  True,  True, False,  True],\n",
       "       [ True,  True,  True,  True,  True],\n",
       "       [ True,  True,  True,  True,  True],\n",
       "       [ True,  True,  True, False,  True],\n",
       "       [ True,  True,  True, False,  True],\n",
       "       [ True,  True,  True,  True,  True],\n",
       "       [ True,  True,  True,  True,  True],\n",
       "       [ True,  True,  True,  True,  True],\n",
       "       [ True,  True,  True, False,  True],\n",
       "       [ True,  True,  True,  True,  True],\n",
       "       [ True,  True,  True,  True,  True],\n",
       "       [ True,  True,  True,  True,  True],\n",
       "       [ True,  True,  True, False,  True],\n",
       "       [ True,  True,  True, False,  True],\n",
       "       [ True,  True,  True,  True,  True],\n",
       "       [ True,  True,  True, False,  True]])"
      ]
     },
     "execution_count": 36,
     "metadata": {},
     "output_type": "execute_result"
    }
   ],
   "source": [
    "iris > 2"
   ]
  },
  {
   "cell_type": "markdown",
   "metadata": {},
   "source": [
    "Pour appliquer la condition sur une colonne particulière du tableau, il faut sélectionner en écrivant le maque booléen de la manière suivante: "
   ]
  },
  {
   "cell_type": "code",
   "execution_count": 39,
   "metadata": {},
   "outputs": [],
   "source": [
    "# Conserve uniquement les valeurs correspondant à l'iris de cat 3.\n",
    "#iris[iris[:,4]==3]\n",
    "iris = iris[iris[:,0]>5]"
   ]
  },
  {
   "cell_type": "markdown",
   "metadata": {},
   "source": [
    "Ici nous venons de sélectionner uniquement les valeurs où la longueur des sépales est supérieur à 5cm, cad où les valeurs de la 1ere colonne sont supérieur à 5. "
   ]
  },
  {
   "cell_type": "markdown",
   "metadata": {},
   "source": [
    "Dans la cellule qui suit on isole la partie \"iris[;,0]>5\". C'est cette partie qui génère un ndarray à 1 dimension contenant 150 valeurs (car il y a 150 lignes dans le tableau). \n",
    "Ansi, Python sait qu'il doit garder uniquement les lignes à l'indece où la valeur est à True dans \"iris[:,0]>5\"."
   ]
  },
  {
   "cell_type": "code",
   "execution_count": 41,
   "metadata": {},
   "outputs": [
    {
     "data": {
      "text/plain": [
       "array([ True,  True,  True,  True,  True,  True,  True,  True,  True,\n",
       "        True,  True,  True,  True,  True,  True,  True,  True,  True,\n",
       "        True,  True,  True,  True,  True,  True,  True,  True,  True,\n",
       "        True,  True,  True,  True,  True,  True,  True,  True,  True,\n",
       "        True,  True,  True,  True,  True,  True,  True,  True,  True,\n",
       "        True,  True,  True,  True,  True,  True,  True,  True,  True,\n",
       "        True,  True,  True,  True,  True,  True,  True,  True,  True,\n",
       "        True,  True,  True,  True,  True,  True,  True,  True,  True,\n",
       "        True,  True,  True,  True,  True,  True,  True,  True,  True,\n",
       "        True,  True,  True,  True,  True,  True,  True,  True,  True,\n",
       "        True,  True,  True,  True,  True,  True,  True,  True,  True,\n",
       "        True,  True,  True,  True,  True,  True,  True,  True,  True,\n",
       "        True,  True,  True,  True,  True,  True,  True,  True,  True,\n",
       "        True])"
      ]
     },
     "execution_count": 41,
     "metadata": {},
     "output_type": "execute_result"
    }
   ],
   "source": [
    "iris[:,0]>5"
   ]
  },
  {
   "cell_type": "markdown",
   "metadata": {},
   "source": [
    "<h3 style=\"text-decoration: underline\">1.2.3 Fancy indexing (littéralement indexation fantaisie...)<h3>"
   ]
  },
  {
   "cell_type": "markdown",
   "metadata": {},
   "source": [
    "Le but est simple: donner un tableau d'indice(ou une liste d'indices) entre crochets à notre ndarray pour sélectionner plusieurs éléments non consécutifs. \n"
   ]
  },
  {
   "cell_type": "code",
   "execution_count": 46,
   "metadata": {},
   "outputs": [
    {
     "name": "stdout",
     "output_type": "stream",
     "text": [
      "Contenu du notre_tableau : \n",
      "[ 1  2  3  4  5  6  7  8  9 10 11 12 13 14 15 16 17 18 19 20]\n",
      "Nouveau tableau après fancy indexing : \n",
      "[[ 5 11  6]\n",
      " [13  9 10]]\n"
     ]
    }
   ],
   "source": [
    "notre_tableau = np.array([1,2,3,4,5,6,7,8,9,10,11,12,13,14,15,16,17,18,19,20])\n",
    "print(\"Contenu du notre_tableau : \")\n",
    "print(notre_tableau)\n",
    "print(\"Nouveau tableau après fancy indexing : \")\n",
    "indices = np.array([[4,10,5],[12,8,9]])\n",
    "print(notre_tableau[indices])"
   ]
  },
  {
   "cell_type": "code",
   "execution_count": 48,
   "metadata": {},
   "outputs": [
    {
     "name": "stdout",
     "output_type": "stream",
     "text": [
      "6\n"
     ]
    }
   ],
   "source": [
    "A = notre_tableau[indices]\n",
    "print(A[0,2])"
   ]
  },
  {
   "cell_type": "markdown",
   "metadata": {},
   "source": [
    "<h3 style=\"text-decoration:underline\">1.3 Accéder aux éléments par tranche (slicing)<h3>"
   ]
  },
  {
   "cell_type": "markdown",
   "metadata": {},
   "source": [
    "<h3 style =\"text-decoration: underline\">1.3.1 Slicing sur un tableau Numpy à 1 dimension</h3>"
   ]
  },
  {
   "cell_type": "code",
   "execution_count": 50,
   "metadata": {},
   "outputs": [
    {
     "data": {
      "text/plain": [
       "array([1, 2, 3])"
      ]
     },
     "execution_count": 50,
     "metadata": {},
     "output_type": "execute_result"
    }
   ],
   "source": [
    "# Les trois premiers éléments\n",
    "notre_tableau[:3]"
   ]
  },
  {
   "cell_type": "code",
   "execution_count": 51,
   "metadata": {},
   "outputs": [
    {
     "data": {
      "text/plain": [
       "array([11, 12, 13, 14, 15, 16, 17, 18, 19, 20])"
      ]
     },
     "execution_count": 51,
     "metadata": {},
     "output_type": "execute_result"
    }
   ],
   "source": [
    "# Les derniers éléments à partir de l'index 10\n",
    "notre_tableau[10:]"
   ]
  },
  {
   "cell_type": "code",
   "execution_count": 52,
   "metadata": {},
   "outputs": [
    {
     "data": {
      "text/plain": [
       "array([4, 5, 6, 7])"
      ]
     },
     "execution_count": 52,
     "metadata": {},
     "output_type": "execute_result"
    }
   ],
   "source": [
    "# Du 3ème au 7ème éléments\n",
    "notre_tableau[3:7]"
   ]
  },
  {
   "cell_type": "code",
   "execution_count": 53,
   "metadata": {},
   "outputs": [
    {
     "data": {
      "text/plain": [
       "array([ 1,  3,  5,  7,  9, 11, 13, 15, 17, 19])"
      ]
     },
     "execution_count": 53,
     "metadata": {},
     "output_type": "execute_result"
    }
   ],
   "source": [
    "# Tous les éléments avec un pas de 2\n",
    "notre_tableau[::2]"
   ]
  },
  {
   "cell_type": "code",
   "execution_count": 54,
   "metadata": {},
   "outputs": [
    {
     "data": {
      "text/plain": [
       "array([4, 7])"
      ]
     },
     "execution_count": 54,
     "metadata": {},
     "output_type": "execute_result"
    }
   ],
   "source": [
    "# Tous les élements entre 3 et 8 avec un pas de 3\n",
    "notre_tableau[3:8:3]"
   ]
  },
  {
   "cell_type": "markdown",
   "metadata": {},
   "source": [
    "<h3 style =\"text-decoration: underline\">1.3.2 Slicing sur un tableau NUmpy à 2 dimensions</h3>"
   ]
  },
  {
   "cell_type": "code",
   "execution_count": 56,
   "metadata": {},
   "outputs": [
    {
     "data": {
      "text/plain": [
       "array([[5.1, 3.5, 1.4, 0.2],\n",
       "       [5.4, 3.9, 1.7, 0.4]])"
      ]
     },
     "execution_count": 56,
     "metadata": {},
     "output_type": "execute_result"
    }
   ],
   "source": [
    "# Ici on sélectionne les deux 1ères lignes des 4 1ères colonnes\n",
    "iris[:2,:4]"
   ]
  },
  {
   "cell_type": "code",
   "execution_count": 73,
   "metadata": {},
   "outputs": [
    {
     "data": {
      "text/plain": [
       "array([], shape=(0, 3), dtype=float64)"
      ]
     },
     "execution_count": 73,
     "metadata": {},
     "output_type": "execute_result"
    }
   ],
   "source": [
    "# Les dernières lignes à partir de l'index 145 des dernières colonnes à partir de l'index 2\n",
    "iris[145:,2:]"
   ]
  },
  {
   "cell_type": "code",
   "execution_count": 60,
   "metadata": {},
   "outputs": [
    {
     "data": {
      "text/plain": [
       "array([5.1, 3.5, 1.4, 0.2, 1. ])"
      ]
     },
     "execution_count": 60,
     "metadata": {},
     "output_type": "execute_result"
    }
   ],
   "source": [
    "# Affiche toutes les colonnes de la ligne 0, la première ligne \n",
    "iris[0,:]"
   ]
  },
  {
   "cell_type": "code",
   "execution_count": 62,
   "metadata": {},
   "outputs": [
    {
     "data": {
      "text/plain": [
       "array([5.1, 5.4, 5.4, 5.8, 5.7, 5.4, 5.1, 5.7, 5.1, 5.4, 5.1, 5.1, 5.2,\n",
       "       5.2, 5.4, 5.2, 5.5, 5.5, 5.1, 5.1, 5.1, 5.3, 7. , 6.4, 6.9, 5.5,\n",
       "       6.5, 5.7, 6.3, 6.6, 5.2, 5.9, 6. , 6.1, 5.6, 6.7, 5.6, 5.8, 6.2,\n",
       "       5.6, 5.9, 6.1, 6.3, 6.1, 6.4, 6.6, 6.8, 6.7, 6. , 5.7, 5.5, 5.5,\n",
       "       5.8, 6. , 5.4, 6. , 6.7, 6.3, 5.6, 5.5, 5.5, 6.1, 5.8, 5.6, 5.7,\n",
       "       5.7, 6.2, 5.1, 5.7, 6.3, 5.8, 7.1, 6.3, 6.5, 7.6, 7.3, 6.7, 7.2,\n",
       "       6.5, 6.4, 6.8, 5.7, 5.8, 6.4, 6.5, 7.7, 7.7, 6. , 6.9, 5.6, 7.7,\n",
       "       6.3, 6.7, 7.2, 6.2, 6.1, 6.4, 7.2, 7.4, 7.9, 6.4, 6.3, 6.1, 7.7,\n",
       "       6.3, 6.4, 6. , 6.9, 6.7, 6.9, 5.8, 6.8, 6.7, 6.7, 6.3, 6.5, 6.2,\n",
       "       5.9])"
      ]
     },
     "execution_count": 62,
     "metadata": {},
     "output_type": "execute_result"
    }
   ],
   "source": [
    "iris[:,0]"
   ]
  },
  {
   "cell_type": "code",
   "execution_count": 64,
   "metadata": {},
   "outputs": [
    {
     "data": {
      "text/plain": [
       "array([5.9, 3. , 5.1, 1.8, 3. ])"
      ]
     },
     "execution_count": 64,
     "metadata": {},
     "output_type": "execute_result"
    }
   ],
   "source": [
    "# Affiche toute les colonnes de la dernière ligne. \n",
    "iris[-1,:]"
   ]
  },
  {
   "cell_type": "markdown",
   "metadata": {},
   "source": [
    "<h3 style=\"text-decoration:underline\">1.4 Notion de vue et copie<h3>"
   ]
  },
  {
   "cell_type": "code",
   "execution_count": 66,
   "metadata": {},
   "outputs": [
    {
     "data": {
      "text/plain": [
       "array([1, 2, 3, 4, 5])"
      ]
     },
     "execution_count": 66,
     "metadata": {},
     "output_type": "execute_result"
    }
   ],
   "source": [
    "sous_tableau = notre_tableau[:5]\n",
    "sous_tableau"
   ]
  },
  {
   "cell_type": "code",
   "execution_count": 67,
   "metadata": {},
   "outputs": [
    {
     "data": {
      "text/plain": [
       "array([10,  2,  3,  4,  5])"
      ]
     },
     "execution_count": 67,
     "metadata": {},
     "output_type": "execute_result"
    }
   ],
   "source": [
    "sous_tableau[0] = 10\n",
    "sous_tableau "
   ]
  },
  {
   "cell_type": "code",
   "execution_count": 68,
   "metadata": {},
   "outputs": [
    {
     "data": {
      "text/plain": [
       "array([10,  2,  3,  4,  5,  6,  7,  8,  9, 10, 11, 12, 13, 14, 15, 16, 17,\n",
       "       18, 19, 20])"
      ]
     },
     "execution_count": 68,
     "metadata": {},
     "output_type": "execute_result"
    }
   ],
   "source": [
    "notre_tableau "
   ]
  },
  {
   "cell_type": "markdown",
   "metadata": {},
   "source": [
    "La première valeur est devenue 10 aussi alors que nous avons modifié l'objet sous_tableau et non pas notre tableau ! \n",
    "Lorsqu'on fait du slicing sur un tableau, ce qu'il retourne, c'est une vue du tableau et non pas une copie du tableau. Ce n'est pas un nouveal ndarray. "
   ]
  },
  {
   "cell_type": "code",
   "execution_count": 71,
   "metadata": {},
   "outputs": [
    {
     "name": "stdout",
     "output_type": "stream",
     "text": [
      "[10  2  3  4  5]\n"
     ]
    }
   ],
   "source": [
    "sous_tableau = notre_tableau[:5].copy()\n",
    "print(sous_tableau)"
   ]
  },
  {
   "cell_type": "code",
   "execution_count": 72,
   "metadata": {},
   "outputs": [
    {
     "name": "stdout",
     "output_type": "stream",
     "text": [
      "[1 2 3 4 5]\n",
      "[10  2  3  4  5  6  7  8  9 10 11 12 13 14 15 16 17 18 19 20]\n"
     ]
    }
   ],
   "source": [
    "sous_tableau[0] = 1\n",
    "print(sous_tableau)\n",
    "print(notre_tableau)"
   ]
  },
  {
   "cell_type": "markdown",
   "metadata": {},
   "source": [
    "<h3 style =\"text-decoration: underline\">2. Les opérations mathématique avec Numpy</h3>"
   ]
  },
  {
   "cell_type": "markdown",
   "metadata": {},
   "source": [
    "<h3 style =\"text-decoration: underline\">2.1 Les opérations arithmétiques</h3>\n",
    "centré réduire = soustraire moyenne et divisé par variance. "
   ]
  },
  {
   "cell_type": "code",
   "execution_count": 75,
   "metadata": {},
   "outputs": [
    {
     "data": {
      "text/plain": [
       "array([[10, 11, 12],\n",
       "       [13, 14, 15],\n",
       "       [16, 17, 18]])"
      ]
     },
     "execution_count": 75,
     "metadata": {},
     "output_type": "execute_result"
    }
   ],
   "source": [
    "mon_tableau = np.array([[10,11,12],[13,14,15],[16,17,18]])\n",
    "mon_tableau"
   ]
  },
  {
   "cell_type": "code",
   "execution_count": 76,
   "metadata": {},
   "outputs": [
    {
     "data": {
      "text/plain": [
       "array([[20, 21, 22],\n",
       "       [23, 24, 25],\n",
       "       [26, 27, 28]])"
      ]
     },
     "execution_count": 76,
     "metadata": {},
     "output_type": "execute_result"
    }
   ],
   "source": [
    "np.add(mon_tableau, 10)"
   ]
  },
  {
   "cell_type": "code",
   "execution_count": 81,
   "metadata": {},
   "outputs": [
    {
     "name": "stdout",
     "output_type": "stream",
     "text": [
      "[[200 220 240]\n",
      " [260 280 300]\n",
      " [320 340 360]]\n",
      "[[10 11 12]\n",
      " [13 14 15]\n",
      " [16 17 18]]\n"
     ]
    }
   ],
   "source": [
    "A = np.multiply(mon_tableau,20)\n",
    "print(A)\n",
    "print(mon_tableau)"
   ]
  },
  {
   "cell_type": "code",
   "execution_count": 82,
   "metadata": {},
   "outputs": [
    {
     "data": {
      "text/plain": [
       "array([10, 20, 30])"
      ]
     },
     "execution_count": 82,
     "metadata": {},
     "output_type": "execute_result"
    }
   ],
   "source": [
    "mon_tableau2 = np.array([10,20,30])\n",
    "mon_tableau2"
   ]
  },
  {
   "cell_type": "code",
   "execution_count": 84,
   "metadata": {},
   "outputs": [
    {
     "data": {
      "text/plain": [
       "array([[  0,  -9, -18],\n",
       "       [  3,  -6, -15],\n",
       "       [  6,  -3, -12]])"
      ]
     },
     "execution_count": 84,
     "metadata": {},
     "output_type": "execute_result"
    }
   ],
   "source": [
    "np.subtract(mon_tableau,mon_tableau2)"
   ]
  },
  {
   "cell_type": "code",
   "execution_count": 85,
   "metadata": {},
   "outputs": [
    {
     "data": {
      "text/plain": [
       "array([[1, 2, 3],\n",
       "       [4, 5, 6],\n",
       "       [7, 8, 9]])"
      ]
     },
     "execution_count": 85,
     "metadata": {},
     "output_type": "execute_result"
    }
   ],
   "source": [
    "# Produit matriciel\n",
    "mon_tableau3 = np.array([[1,2,3],[4,5,6],[7,8,9]])\n",
    "mon_tableau3"
   ]
  },
  {
   "cell_type": "code",
   "execution_count": 86,
   "metadata": {},
   "outputs": [
    {
     "data": {
      "text/plain": [
       "array([[ 10,  22,  36],\n",
       "       [ 52,  70,  90],\n",
       "       [112, 136, 162]])"
      ]
     },
     "execution_count": 86,
     "metadata": {},
     "output_type": "execute_result"
    }
   ],
   "source": [
    "np.multiply(mon_tableau,mon_tableau3)"
   ]
  },
  {
   "cell_type": "markdown",
   "metadata": {},
   "source": [
    "<h3 style =\"text-decoration: underline\">2.2 Les fonctions d'agrégations</h3>"
   ]
  },
  {
   "cell_type": "code",
   "execution_count": 88,
   "metadata": {},
   "outputs": [
    {
     "name": "stdout",
     "output_type": "stream",
     "text": [
      "Somme sur l'ensemble des éléments: \n",
      "2024.2\n",
      "Somme par colonne:\n",
      "[723.3 359.7 509.2 169.  263. ]\n",
      "Somme par ligne: \n",
      "[11.2 12.4 11.8 12.2 13.  12.  11.3 12.5 11.7 11.7 11.7 11.6 11.4 11.2\n",
      " 11.7 11.9 12.3 11.5 11.2 12.2 11.7 11.7 18.3 17.6 18.4 15.1 17.4 16.3\n",
      " 17.9 17.4 15.2 16.6 15.2 17.1 15.4 17.6 16.6 15.6 16.4 15.1 17.7 16.2\n",
      " 17.2 16.8 16.9 17.4 17.8 18.4 16.9 14.8 14.8 14.6 15.6 17.4 16.4 17.5\n",
      " 18.  16.3 16.  15.3 15.7 17.1 15.6 15.8 16.1 16.1 16.7 13.7 15.9 21.1\n",
      " 18.5 21.1 19.6 20.5 22.3 21.3 19.8 22.4 19.8 19.3 20.4 18.2 19.1 20.2\n",
      " 19.8 23.4 22.5 17.7 21.1 18.3 22.2 18.7 20.8 21.2 18.6 18.8 19.9 20.6\n",
      " 21.2 23.1 20.  18.7 18.7 22.1 20.7 19.8 18.6 20.5 20.8 20.4 18.5 21.2\n",
      " 21.2 20.2 18.7 19.7 20.3 18.8]\n"
     ]
    }
   ],
   "source": [
    "import numpy as np \n",
    "print(\"Somme sur l'ensemble des éléments: \")\n",
    "print(np.sum(iris))\n",
    "\n",
    "# axis = 0 signifie qu'on veut effectuer le calcule par colonne\n",
    "# et axis = 1 signifie qu'on veut effectuer le calcul par ligne. \n",
    "print(\"Somme par colonne:\")\n",
    "print(np.sum(iris, axis =0))\n",
    "print(\"Somme par ligne: \")\n",
    "print(np.sum(iris, axis =1))"
   ]
  },
  {
   "cell_type": "code",
   "execution_count": 89,
   "metadata": {},
   "outputs": [
    {
     "name": "stdout",
     "output_type": "stream",
     "text": [
      "[6.12966102 3.04830508 4.31525424 1.43220339 2.22881356]\n",
      "[0.68498538 0.44354753 1.52213204 0.66865427 0.74117425]\n"
     ]
    }
   ],
   "source": [
    "print(np.mean(iris, axis=0))\n",
    "print(np.std(iris, axis = 0))"
   ]
  },
  {
   "cell_type": "code",
   "execution_count": 90,
   "metadata": {},
   "outputs": [
    {
     "name": "stdout",
     "output_type": "stream",
     "text": [
      "[7.9 4.4 6.9 2.5 3. ]\n"
     ]
    }
   ],
   "source": [
    "print(np.max(iris,axis=0))"
   ]
  },
  {
   "cell_type": "markdown",
   "metadata": {},
   "source": [
    "Application du masque avec un booléen pour faire des stats sur uniquement 1 type d'iris.Calcul en colonne d'où axis = 0 pour faire les moyennes bien adéquate.  "
   ]
  },
  {
   "cell_type": "code",
   "execution_count": 96,
   "metadata": {},
   "outputs": [
    {
     "name": "stdout",
     "output_type": "stream",
     "text": [
      "[6.62244898 2.98367347 5.57346939 2.03265306 3.        ]\n",
      "[5.99787234 2.80425532 4.31702128 1.34680851 2.        ]\n",
      "[5.31363636 3.71363636 1.50909091 0.27727273 1.        ]\n"
     ]
    }
   ],
   "source": [
    "iris3 = iris[iris[:,4] == 3]\n",
    "iris2 = iris[iris[:,4] == 2]\n",
    "iris1 = iris[iris[:,4] == 1]\n",
    "# print(iris3)\n",
    "# pour plusieurs conditions : print(iris[(iris[:,4] == 3) & (iris[:, 3] > 2)])\n",
    "print(np.mean(iris3, axis = 0))\n",
    "print(np.mean(iris2, axis = 0))\n",
    "print(np.mean(iris1, axis = 0))"
   ]
  },
  {
   "cell_type": "markdown",
   "metadata": {},
   "source": [
    "<h3 style =\"text-decoration: underline\">2. Inspecter un tableau grâce aux attributs de Numpy</h3>"
   ]
  },
  {
   "cell_type": "code",
   "execution_count": 98,
   "metadata": {},
   "outputs": [
    {
     "name": "stdout",
     "output_type": "stream",
     "text": [
      "590\n",
      "(118, 5)\n",
      "2\n",
      "float64\n"
     ]
    }
   ],
   "source": [
    "print(iris.size)\n",
    "print(iris.shape)\n",
    "print(iris.ndim)\n",
    "print(iris.dtype)"
   ]
  },
  {
   "cell_type": "code",
   "execution_count": 99,
   "metadata": {},
   "outputs": [],
   "source": [
    "#Transposée c'est mettre ligne en colonne et colonne en ligne \n",
    "# calcul matriciel, jeu de données mauvais à transposer. "
   ]
  },
  {
   "cell_type": "markdown",
   "metadata": {},
   "source": [
    "<h3 style =\"text-decoration: underline\">4. Manipulation de tableaux Numpy</h3>\n",
    "<h3 style =\"text-decoration: underline\">4.1 Ajouter et supprimer des éléments d'un tableau</h3>\n",
    "<h3 style =\"text-decoration: underline\">4.1.1 AJouter des éléments dans un tableau</h3>"
   ]
  },
  {
   "cell_type": "code",
   "execution_count": 100,
   "metadata": {},
   "outputs": [
    {
     "data": {
      "text/plain": [
       "array([10,  2,  3,  4,  5,  6,  7,  8,  9, 10, 11, 12, 13, 14, 15, 16, 17,\n",
       "       18, 19, 20, 21, 22, 23, 24, 25])"
      ]
     },
     "execution_count": 100,
     "metadata": {},
     "output_type": "execute_result"
    }
   ],
   "source": [
    "np.append(notre_tableau,[21,22,23,24,25])"
   ]
  },
  {
   "cell_type": "code",
   "execution_count": 102,
   "metadata": {},
   "outputs": [
    {
     "data": {
      "text/plain": [
       "array([[ 5.1,  3.5,  1.4,  0.2,  1. ],\n",
       "       [ 5.4,  3.9,  1.7,  0.4,  1. ],\n",
       "       [ 5.4,  3.7,  1.5,  0.2,  1. ],\n",
       "       [ 5.8,  4. ,  1.2,  0.2,  1. ],\n",
       "       [ 5.7,  4.4,  1.5,  0.4,  1. ],\n",
       "       [ 5.4,  3.9,  1.3,  0.4,  1. ],\n",
       "       [ 5.1,  3.5,  1.4,  0.3,  1. ],\n",
       "       [ 5.7,  3.8,  1.7,  0.3,  1. ],\n",
       "       [ 5.1,  3.8,  1.5,  0.3,  1. ],\n",
       "       [ 5.4,  3.4,  1.7,  0.2,  1. ],\n",
       "       [ 5.1,  3.7,  1.5,  0.4,  1. ],\n",
       "       [ 5.1,  3.3,  1.7,  0.5,  1. ],\n",
       "       [ 5.2,  3.5,  1.5,  0.2,  1. ],\n",
       "       [ 5.2,  3.4,  1.4,  0.2,  1. ],\n",
       "       [ 5.4,  3.4,  1.5,  0.4,  1. ],\n",
       "       [ 5.2,  4.1,  1.5,  0.1,  1. ],\n",
       "       [ 5.5,  4.2,  1.4,  0.2,  1. ],\n",
       "       [ 5.5,  3.5,  1.3,  0.2,  1. ],\n",
       "       [ 5.1,  3.4,  1.5,  0.2,  1. ],\n",
       "       [ 5.1,  3.8,  1.9,  0.4,  1. ],\n",
       "       [ 5.1,  3.8,  1.6,  0.2,  1. ],\n",
       "       [ 5.3,  3.7,  1.5,  0.2,  1. ],\n",
       "       [ 7. ,  3.2,  4.7,  1.4,  2. ],\n",
       "       [ 6.4,  3.2,  4.5,  1.5,  2. ],\n",
       "       [ 6.9,  3.1,  4.9,  1.5,  2. ],\n",
       "       [ 5.5,  2.3,  4. ,  1.3,  2. ],\n",
       "       [ 6.5,  2.8,  4.6,  1.5,  2. ],\n",
       "       [ 5.7,  2.8,  4.5,  1.3,  2. ],\n",
       "       [ 6.3,  3.3,  4.7,  1.6,  2. ],\n",
       "       [ 6.6,  2.9,  4.6,  1.3,  2. ],\n",
       "       [ 5.2,  2.7,  3.9,  1.4,  2. ],\n",
       "       [ 5.9,  3. ,  4.2,  1.5,  2. ],\n",
       "       [ 6. ,  2.2,  4. ,  1. ,  2. ],\n",
       "       [ 6.1,  2.9,  4.7,  1.4,  2. ],\n",
       "       [ 5.6,  2.9,  3.6,  1.3,  2. ],\n",
       "       [ 6.7,  3.1,  4.4,  1.4,  2. ],\n",
       "       [ 5.6,  3. ,  4.5,  1.5,  2. ],\n",
       "       [ 5.8,  2.7,  4.1,  1. ,  2. ],\n",
       "       [ 6.2,  2.2,  4.5,  1.5,  2. ],\n",
       "       [ 5.6,  2.5,  3.9,  1.1,  2. ],\n",
       "       [ 5.9,  3.2,  4.8,  1.8,  2. ],\n",
       "       [ 6.1,  2.8,  4. ,  1.3,  2. ],\n",
       "       [ 6.3,  2.5,  4.9,  1.5,  2. ],\n",
       "       [ 6.1,  2.8,  4.7,  1.2,  2. ],\n",
       "       [ 6.4,  2.9,  4.3,  1.3,  2. ],\n",
       "       [ 6.6,  3. ,  4.4,  1.4,  2. ],\n",
       "       [ 6.8,  2.8,  4.8,  1.4,  2. ],\n",
       "       [ 6.7,  3. ,  5. ,  1.7,  2. ],\n",
       "       [ 6. ,  2.9,  4.5,  1.5,  2. ],\n",
       "       [ 5.7,  2.6,  3.5,  1. ,  2. ],\n",
       "       [ 5.5,  2.4,  3.8,  1.1,  2. ],\n",
       "       [ 5.5,  2.4,  3.7,  1. ,  2. ],\n",
       "       [ 5.8,  2.7,  3.9,  1.2,  2. ],\n",
       "       [ 6. ,  2.7,  5.1,  1.6,  2. ],\n",
       "       [ 5.4,  3. ,  4.5,  1.5,  2. ],\n",
       "       [ 6. ,  3.4,  4.5,  1.6,  2. ],\n",
       "       [ 6.7,  3.1,  4.7,  1.5,  2. ],\n",
       "       [ 6.3,  2.3,  4.4,  1.3,  2. ],\n",
       "       [ 5.6,  3. ,  4.1,  1.3,  2. ],\n",
       "       [ 5.5,  2.5,  4. ,  1.3,  2. ],\n",
       "       [ 5.5,  2.6,  4.4,  1.2,  2. ],\n",
       "       [ 6.1,  3. ,  4.6,  1.4,  2. ],\n",
       "       [ 5.8,  2.6,  4. ,  1.2,  2. ],\n",
       "       [ 5.6,  2.7,  4.2,  1.3,  2. ],\n",
       "       [ 5.7,  3. ,  4.2,  1.2,  2. ],\n",
       "       [ 5.7,  2.9,  4.2,  1.3,  2. ],\n",
       "       [ 6.2,  2.9,  4.3,  1.3,  2. ],\n",
       "       [ 5.1,  2.5,  3. ,  1.1,  2. ],\n",
       "       [ 5.7,  2.8,  4.1,  1.3,  2. ],\n",
       "       [ 6.3,  3.3,  6. ,  2.5,  3. ],\n",
       "       [ 5.8,  2.7,  5.1,  1.9,  3. ],\n",
       "       [ 7.1,  3. ,  5.9,  2.1,  3. ],\n",
       "       [ 6.3,  2.9,  5.6,  1.8,  3. ],\n",
       "       [ 6.5,  3. ,  5.8,  2.2,  3. ],\n",
       "       [ 7.6,  3. ,  6.6,  2.1,  3. ],\n",
       "       [ 7.3,  2.9,  6.3,  1.8,  3. ],\n",
       "       [ 6.7,  2.5,  5.8,  1.8,  3. ],\n",
       "       [ 7.2,  3.6,  6.1,  2.5,  3. ],\n",
       "       [ 6.5,  3.2,  5.1,  2. ,  3. ],\n",
       "       [ 6.4,  2.7,  5.3,  1.9,  3. ],\n",
       "       [ 6.8,  3. ,  5.5,  2.1,  3. ],\n",
       "       [ 5.7,  2.5,  5. ,  2. ,  3. ],\n",
       "       [ 5.8,  2.8,  5.1,  2.4,  3. ],\n",
       "       [ 6.4,  3.2,  5.3,  2.3,  3. ],\n",
       "       [ 6.5,  3. ,  5.5,  1.8,  3. ],\n",
       "       [ 7.7,  3.8,  6.7,  2.2,  3. ],\n",
       "       [ 7.7,  2.6,  6.9,  2.3,  3. ],\n",
       "       [ 6. ,  2.2,  5. ,  1.5,  3. ],\n",
       "       [ 6.9,  3.2,  5.7,  2.3,  3. ],\n",
       "       [ 5.6,  2.8,  4.9,  2. ,  3. ],\n",
       "       [ 7.7,  2.8,  6.7,  2. ,  3. ],\n",
       "       [ 6.3,  2.7,  4.9,  1.8,  3. ],\n",
       "       [ 6.7,  3.3,  5.7,  2.1,  3. ],\n",
       "       [ 7.2,  3.2,  6. ,  1.8,  3. ],\n",
       "       [ 6.2,  2.8,  4.8,  1.8,  3. ],\n",
       "       [ 6.1,  3. ,  4.9,  1.8,  3. ],\n",
       "       [ 6.4,  2.8,  5.6,  2.1,  3. ],\n",
       "       [ 7.2,  3. ,  5.8,  1.6,  3. ],\n",
       "       [ 7.4,  2.8,  6.1,  1.9,  3. ],\n",
       "       [ 7.9,  3.8,  6.4,  2. ,  3. ],\n",
       "       [ 6.4,  2.8,  5.6,  2.2,  3. ],\n",
       "       [ 6.3,  2.8,  5.1,  1.5,  3. ],\n",
       "       [ 6.1,  2.6,  5.6,  1.4,  3. ],\n",
       "       [ 7.7,  3. ,  6.1,  2.3,  3. ],\n",
       "       [ 6.3,  3.4,  5.6,  2.4,  3. ],\n",
       "       [ 6.4,  3.1,  5.5,  1.8,  3. ],\n",
       "       [ 6. ,  3. ,  4.8,  1.8,  3. ],\n",
       "       [ 6.9,  3.1,  5.4,  2.1,  3. ],\n",
       "       [ 6.7,  3.1,  5.6,  2.4,  3. ],\n",
       "       [ 6.9,  3.1,  5.1,  2.3,  3. ],\n",
       "       [ 5.8,  2.7,  5.1,  1.9,  3. ],\n",
       "       [ 6.8,  3.2,  5.9,  2.3,  3. ],\n",
       "       [ 6.7,  3.3,  5.7,  2.5,  3. ],\n",
       "       [ 6.7,  3. ,  5.2,  2.3,  3. ],\n",
       "       [ 6.3,  2.5,  5. ,  1.9,  3. ],\n",
       "       [ 6.5,  3. ,  5.2,  2. ,  3. ],\n",
       "       [ 6.2,  3.4,  5.4,  2.3,  3. ],\n",
       "       [ 5.9,  3. ,  5.1,  1.8,  3. ],\n",
       "       [10. , 10. , 10. , 10. , 10. ]])"
      ]
     },
     "execution_count": 102,
     "metadata": {},
     "output_type": "execute_result"
    }
   ],
   "source": [
    "np.append(iris,[[10,10,10,10,10]], axis = 0)"
   ]
  },
  {
   "cell_type": "code",
   "execution_count": 103,
   "metadata": {},
   "outputs": [
    {
     "data": {
      "text/plain": [
       "array([10, 42,  2,  3,  4,  5,  6,  7,  8,  9, 10, 11, 12, 13, 14, 15, 16,\n",
       "       17, 18, 19, 20])"
      ]
     },
     "execution_count": 103,
     "metadata": {},
     "output_type": "execute_result"
    }
   ],
   "source": [
    "# L'élément 42 a été ajouté à l'index 1, \n",
    "# Donc à la place de la valeur 2, et la valeur 2 se retrouve alors à l'index2.\n",
    "np.insert(notre_tableau, 1, 42)"
   ]
  },
  {
   "cell_type": "code",
   "execution_count": 104,
   "metadata": {},
   "outputs": [
    {
     "data": {
      "text/plain": [
       "array([10, 42, 43, 44, 45, 46,  2,  3,  4,  5,  6,  7,  8,  9, 10, 11, 12,\n",
       "       13, 14, 15, 16, 17, 18, 19, 20])"
      ]
     },
     "execution_count": 104,
     "metadata": {},
     "output_type": "execute_result"
    }
   ],
   "source": [
    "np.insert(notre_tableau, 1, [42, 43, 44, 45, 46])"
   ]
  },
  {
   "cell_type": "code",
   "execution_count": 105,
   "metadata": {},
   "outputs": [
    {
     "data": {
      "text/plain": [
       "array([[ 5.1,  3.5,  1.4,  0.2,  1. ],\n",
       "       [10. , 10. , 10. , 10. , 10. ],\n",
       "       [ 5.4,  3.9,  1.7,  0.4,  1. ],\n",
       "       [ 5.4,  3.7,  1.5,  0.2,  1. ],\n",
       "       [ 5.8,  4. ,  1.2,  0.2,  1. ],\n",
       "       [ 5.7,  4.4,  1.5,  0.4,  1. ],\n",
       "       [ 5.4,  3.9,  1.3,  0.4,  1. ],\n",
       "       [ 5.1,  3.5,  1.4,  0.3,  1. ],\n",
       "       [ 5.7,  3.8,  1.7,  0.3,  1. ],\n",
       "       [ 5.1,  3.8,  1.5,  0.3,  1. ],\n",
       "       [ 5.4,  3.4,  1.7,  0.2,  1. ],\n",
       "       [ 5.1,  3.7,  1.5,  0.4,  1. ],\n",
       "       [ 5.1,  3.3,  1.7,  0.5,  1. ],\n",
       "       [ 5.2,  3.5,  1.5,  0.2,  1. ],\n",
       "       [ 5.2,  3.4,  1.4,  0.2,  1. ],\n",
       "       [ 5.4,  3.4,  1.5,  0.4,  1. ],\n",
       "       [ 5.2,  4.1,  1.5,  0.1,  1. ],\n",
       "       [ 5.5,  4.2,  1.4,  0.2,  1. ],\n",
       "       [ 5.5,  3.5,  1.3,  0.2,  1. ],\n",
       "       [ 5.1,  3.4,  1.5,  0.2,  1. ],\n",
       "       [ 5.1,  3.8,  1.9,  0.4,  1. ],\n",
       "       [ 5.1,  3.8,  1.6,  0.2,  1. ],\n",
       "       [ 5.3,  3.7,  1.5,  0.2,  1. ],\n",
       "       [ 7. ,  3.2,  4.7,  1.4,  2. ],\n",
       "       [ 6.4,  3.2,  4.5,  1.5,  2. ],\n",
       "       [ 6.9,  3.1,  4.9,  1.5,  2. ],\n",
       "       [ 5.5,  2.3,  4. ,  1.3,  2. ],\n",
       "       [ 6.5,  2.8,  4.6,  1.5,  2. ],\n",
       "       [ 5.7,  2.8,  4.5,  1.3,  2. ],\n",
       "       [ 6.3,  3.3,  4.7,  1.6,  2. ],\n",
       "       [ 6.6,  2.9,  4.6,  1.3,  2. ],\n",
       "       [ 5.2,  2.7,  3.9,  1.4,  2. ],\n",
       "       [ 5.9,  3. ,  4.2,  1.5,  2. ],\n",
       "       [ 6. ,  2.2,  4. ,  1. ,  2. ],\n",
       "       [ 6.1,  2.9,  4.7,  1.4,  2. ],\n",
       "       [ 5.6,  2.9,  3.6,  1.3,  2. ],\n",
       "       [ 6.7,  3.1,  4.4,  1.4,  2. ],\n",
       "       [ 5.6,  3. ,  4.5,  1.5,  2. ],\n",
       "       [ 5.8,  2.7,  4.1,  1. ,  2. ],\n",
       "       [ 6.2,  2.2,  4.5,  1.5,  2. ],\n",
       "       [ 5.6,  2.5,  3.9,  1.1,  2. ],\n",
       "       [ 5.9,  3.2,  4.8,  1.8,  2. ],\n",
       "       [ 6.1,  2.8,  4. ,  1.3,  2. ],\n",
       "       [ 6.3,  2.5,  4.9,  1.5,  2. ],\n",
       "       [ 6.1,  2.8,  4.7,  1.2,  2. ],\n",
       "       [ 6.4,  2.9,  4.3,  1.3,  2. ],\n",
       "       [ 6.6,  3. ,  4.4,  1.4,  2. ],\n",
       "       [ 6.8,  2.8,  4.8,  1.4,  2. ],\n",
       "       [ 6.7,  3. ,  5. ,  1.7,  2. ],\n",
       "       [ 6. ,  2.9,  4.5,  1.5,  2. ],\n",
       "       [ 5.7,  2.6,  3.5,  1. ,  2. ],\n",
       "       [ 5.5,  2.4,  3.8,  1.1,  2. ],\n",
       "       [ 5.5,  2.4,  3.7,  1. ,  2. ],\n",
       "       [ 5.8,  2.7,  3.9,  1.2,  2. ],\n",
       "       [ 6. ,  2.7,  5.1,  1.6,  2. ],\n",
       "       [ 5.4,  3. ,  4.5,  1.5,  2. ],\n",
       "       [ 6. ,  3.4,  4.5,  1.6,  2. ],\n",
       "       [ 6.7,  3.1,  4.7,  1.5,  2. ],\n",
       "       [ 6.3,  2.3,  4.4,  1.3,  2. ],\n",
       "       [ 5.6,  3. ,  4.1,  1.3,  2. ],\n",
       "       [ 5.5,  2.5,  4. ,  1.3,  2. ],\n",
       "       [ 5.5,  2.6,  4.4,  1.2,  2. ],\n",
       "       [ 6.1,  3. ,  4.6,  1.4,  2. ],\n",
       "       [ 5.8,  2.6,  4. ,  1.2,  2. ],\n",
       "       [ 5.6,  2.7,  4.2,  1.3,  2. ],\n",
       "       [ 5.7,  3. ,  4.2,  1.2,  2. ],\n",
       "       [ 5.7,  2.9,  4.2,  1.3,  2. ],\n",
       "       [ 6.2,  2.9,  4.3,  1.3,  2. ],\n",
       "       [ 5.1,  2.5,  3. ,  1.1,  2. ],\n",
       "       [ 5.7,  2.8,  4.1,  1.3,  2. ],\n",
       "       [ 6.3,  3.3,  6. ,  2.5,  3. ],\n",
       "       [ 5.8,  2.7,  5.1,  1.9,  3. ],\n",
       "       [ 7.1,  3. ,  5.9,  2.1,  3. ],\n",
       "       [ 6.3,  2.9,  5.6,  1.8,  3. ],\n",
       "       [ 6.5,  3. ,  5.8,  2.2,  3. ],\n",
       "       [ 7.6,  3. ,  6.6,  2.1,  3. ],\n",
       "       [ 7.3,  2.9,  6.3,  1.8,  3. ],\n",
       "       [ 6.7,  2.5,  5.8,  1.8,  3. ],\n",
       "       [ 7.2,  3.6,  6.1,  2.5,  3. ],\n",
       "       [ 6.5,  3.2,  5.1,  2. ,  3. ],\n",
       "       [ 6.4,  2.7,  5.3,  1.9,  3. ],\n",
       "       [ 6.8,  3. ,  5.5,  2.1,  3. ],\n",
       "       [ 5.7,  2.5,  5. ,  2. ,  3. ],\n",
       "       [ 5.8,  2.8,  5.1,  2.4,  3. ],\n",
       "       [ 6.4,  3.2,  5.3,  2.3,  3. ],\n",
       "       [ 6.5,  3. ,  5.5,  1.8,  3. ],\n",
       "       [ 7.7,  3.8,  6.7,  2.2,  3. ],\n",
       "       [ 7.7,  2.6,  6.9,  2.3,  3. ],\n",
       "       [ 6. ,  2.2,  5. ,  1.5,  3. ],\n",
       "       [ 6.9,  3.2,  5.7,  2.3,  3. ],\n",
       "       [ 5.6,  2.8,  4.9,  2. ,  3. ],\n",
       "       [ 7.7,  2.8,  6.7,  2. ,  3. ],\n",
       "       [ 6.3,  2.7,  4.9,  1.8,  3. ],\n",
       "       [ 6.7,  3.3,  5.7,  2.1,  3. ],\n",
       "       [ 7.2,  3.2,  6. ,  1.8,  3. ],\n",
       "       [ 6.2,  2.8,  4.8,  1.8,  3. ],\n",
       "       [ 6.1,  3. ,  4.9,  1.8,  3. ],\n",
       "       [ 6.4,  2.8,  5.6,  2.1,  3. ],\n",
       "       [ 7.2,  3. ,  5.8,  1.6,  3. ],\n",
       "       [ 7.4,  2.8,  6.1,  1.9,  3. ],\n",
       "       [ 7.9,  3.8,  6.4,  2. ,  3. ],\n",
       "       [ 6.4,  2.8,  5.6,  2.2,  3. ],\n",
       "       [ 6.3,  2.8,  5.1,  1.5,  3. ],\n",
       "       [ 6.1,  2.6,  5.6,  1.4,  3. ],\n",
       "       [ 7.7,  3. ,  6.1,  2.3,  3. ],\n",
       "       [ 6.3,  3.4,  5.6,  2.4,  3. ],\n",
       "       [ 6.4,  3.1,  5.5,  1.8,  3. ],\n",
       "       [ 6. ,  3. ,  4.8,  1.8,  3. ],\n",
       "       [ 6.9,  3.1,  5.4,  2.1,  3. ],\n",
       "       [ 6.7,  3.1,  5.6,  2.4,  3. ],\n",
       "       [ 6.9,  3.1,  5.1,  2.3,  3. ],\n",
       "       [ 5.8,  2.7,  5.1,  1.9,  3. ],\n",
       "       [ 6.8,  3.2,  5.9,  2.3,  3. ],\n",
       "       [ 6.7,  3.3,  5.7,  2.5,  3. ],\n",
       "       [ 6.7,  3. ,  5.2,  2.3,  3. ],\n",
       "       [ 6.3,  2.5,  5. ,  1.9,  3. ],\n",
       "       [ 6.5,  3. ,  5.2,  2. ,  3. ],\n",
       "       [ 6.2,  3.4,  5.4,  2.3,  3. ],\n",
       "       [ 5.9,  3. ,  5.1,  1.8,  3. ]])"
      ]
     },
     "execution_count": 105,
     "metadata": {},
     "output_type": "execute_result"
    }
   ],
   "source": [
    "np.insert(iris, 1, [10,10,10,10,10], axis = 0)\n",
    "# On vient d'insérer une ligne en 2ème position du tableau iris, contenant 5 valeurs"
   ]
  },
  {
   "cell_type": "code",
   "execution_count": 106,
   "metadata": {},
   "outputs": [
    {
     "data": {
      "text/plain": [
       "array([ 5.1, 10. , 10. , 10. , 10. , 10. ,  3.5,  1.4,  0.2,  1. ,  5.4,\n",
       "        3.9,  1.7,  0.4,  1. ,  5.4,  3.7,  1.5,  0.2,  1. ,  5.8,  4. ,\n",
       "        1.2,  0.2,  1. ,  5.7,  4.4,  1.5,  0.4,  1. ,  5.4,  3.9,  1.3,\n",
       "        0.4,  1. ,  5.1,  3.5,  1.4,  0.3,  1. ,  5.7,  3.8,  1.7,  0.3,\n",
       "        1. ,  5.1,  3.8,  1.5,  0.3,  1. ,  5.4,  3.4,  1.7,  0.2,  1. ,\n",
       "        5.1,  3.7,  1.5,  0.4,  1. ,  5.1,  3.3,  1.7,  0.5,  1. ,  5.2,\n",
       "        3.5,  1.5,  0.2,  1. ,  5.2,  3.4,  1.4,  0.2,  1. ,  5.4,  3.4,\n",
       "        1.5,  0.4,  1. ,  5.2,  4.1,  1.5,  0.1,  1. ,  5.5,  4.2,  1.4,\n",
       "        0.2,  1. ,  5.5,  3.5,  1.3,  0.2,  1. ,  5.1,  3.4,  1.5,  0.2,\n",
       "        1. ,  5.1,  3.8,  1.9,  0.4,  1. ,  5.1,  3.8,  1.6,  0.2,  1. ,\n",
       "        5.3,  3.7,  1.5,  0.2,  1. ,  7. ,  3.2,  4.7,  1.4,  2. ,  6.4,\n",
       "        3.2,  4.5,  1.5,  2. ,  6.9,  3.1,  4.9,  1.5,  2. ,  5.5,  2.3,\n",
       "        4. ,  1.3,  2. ,  6.5,  2.8,  4.6,  1.5,  2. ,  5.7,  2.8,  4.5,\n",
       "        1.3,  2. ,  6.3,  3.3,  4.7,  1.6,  2. ,  6.6,  2.9,  4.6,  1.3,\n",
       "        2. ,  5.2,  2.7,  3.9,  1.4,  2. ,  5.9,  3. ,  4.2,  1.5,  2. ,\n",
       "        6. ,  2.2,  4. ,  1. ,  2. ,  6.1,  2.9,  4.7,  1.4,  2. ,  5.6,\n",
       "        2.9,  3.6,  1.3,  2. ,  6.7,  3.1,  4.4,  1.4,  2. ,  5.6,  3. ,\n",
       "        4.5,  1.5,  2. ,  5.8,  2.7,  4.1,  1. ,  2. ,  6.2,  2.2,  4.5,\n",
       "        1.5,  2. ,  5.6,  2.5,  3.9,  1.1,  2. ,  5.9,  3.2,  4.8,  1.8,\n",
       "        2. ,  6.1,  2.8,  4. ,  1.3,  2. ,  6.3,  2.5,  4.9,  1.5,  2. ,\n",
       "        6.1,  2.8,  4.7,  1.2,  2. ,  6.4,  2.9,  4.3,  1.3,  2. ,  6.6,\n",
       "        3. ,  4.4,  1.4,  2. ,  6.8,  2.8,  4.8,  1.4,  2. ,  6.7,  3. ,\n",
       "        5. ,  1.7,  2. ,  6. ,  2.9,  4.5,  1.5,  2. ,  5.7,  2.6,  3.5,\n",
       "        1. ,  2. ,  5.5,  2.4,  3.8,  1.1,  2. ,  5.5,  2.4,  3.7,  1. ,\n",
       "        2. ,  5.8,  2.7,  3.9,  1.2,  2. ,  6. ,  2.7,  5.1,  1.6,  2. ,\n",
       "        5.4,  3. ,  4.5,  1.5,  2. ,  6. ,  3.4,  4.5,  1.6,  2. ,  6.7,\n",
       "        3.1,  4.7,  1.5,  2. ,  6.3,  2.3,  4.4,  1.3,  2. ,  5.6,  3. ,\n",
       "        4.1,  1.3,  2. ,  5.5,  2.5,  4. ,  1.3,  2. ,  5.5,  2.6,  4.4,\n",
       "        1.2,  2. ,  6.1,  3. ,  4.6,  1.4,  2. ,  5.8,  2.6,  4. ,  1.2,\n",
       "        2. ,  5.6,  2.7,  4.2,  1.3,  2. ,  5.7,  3. ,  4.2,  1.2,  2. ,\n",
       "        5.7,  2.9,  4.2,  1.3,  2. ,  6.2,  2.9,  4.3,  1.3,  2. ,  5.1,\n",
       "        2.5,  3. ,  1.1,  2. ,  5.7,  2.8,  4.1,  1.3,  2. ,  6.3,  3.3,\n",
       "        6. ,  2.5,  3. ,  5.8,  2.7,  5.1,  1.9,  3. ,  7.1,  3. ,  5.9,\n",
       "        2.1,  3. ,  6.3,  2.9,  5.6,  1.8,  3. ,  6.5,  3. ,  5.8,  2.2,\n",
       "        3. ,  7.6,  3. ,  6.6,  2.1,  3. ,  7.3,  2.9,  6.3,  1.8,  3. ,\n",
       "        6.7,  2.5,  5.8,  1.8,  3. ,  7.2,  3.6,  6.1,  2.5,  3. ,  6.5,\n",
       "        3.2,  5.1,  2. ,  3. ,  6.4,  2.7,  5.3,  1.9,  3. ,  6.8,  3. ,\n",
       "        5.5,  2.1,  3. ,  5.7,  2.5,  5. ,  2. ,  3. ,  5.8,  2.8,  5.1,\n",
       "        2.4,  3. ,  6.4,  3.2,  5.3,  2.3,  3. ,  6.5,  3. ,  5.5,  1.8,\n",
       "        3. ,  7.7,  3.8,  6.7,  2.2,  3. ,  7.7,  2.6,  6.9,  2.3,  3. ,\n",
       "        6. ,  2.2,  5. ,  1.5,  3. ,  6.9,  3.2,  5.7,  2.3,  3. ,  5.6,\n",
       "        2.8,  4.9,  2. ,  3. ,  7.7,  2.8,  6.7,  2. ,  3. ,  6.3,  2.7,\n",
       "        4.9,  1.8,  3. ,  6.7,  3.3,  5.7,  2.1,  3. ,  7.2,  3.2,  6. ,\n",
       "        1.8,  3. ,  6.2,  2.8,  4.8,  1.8,  3. ,  6.1,  3. ,  4.9,  1.8,\n",
       "        3. ,  6.4,  2.8,  5.6,  2.1,  3. ,  7.2,  3. ,  5.8,  1.6,  3. ,\n",
       "        7.4,  2.8,  6.1,  1.9,  3. ,  7.9,  3.8,  6.4,  2. ,  3. ,  6.4,\n",
       "        2.8,  5.6,  2.2,  3. ,  6.3,  2.8,  5.1,  1.5,  3. ,  6.1,  2.6,\n",
       "        5.6,  1.4,  3. ,  7.7,  3. ,  6.1,  2.3,  3. ,  6.3,  3.4,  5.6,\n",
       "        2.4,  3. ,  6.4,  3.1,  5.5,  1.8,  3. ,  6. ,  3. ,  4.8,  1.8,\n",
       "        3. ,  6.9,  3.1,  5.4,  2.1,  3. ,  6.7,  3.1,  5.6,  2.4,  3. ,\n",
       "        6.9,  3.1,  5.1,  2.3,  3. ,  5.8,  2.7,  5.1,  1.9,  3. ,  6.8,\n",
       "        3.2,  5.9,  2.3,  3. ,  6.7,  3.3,  5.7,  2.5,  3. ,  6.7,  3. ,\n",
       "        5.2,  2.3,  3. ,  6.3,  2.5,  5. ,  1.9,  3. ,  6.5,  3. ,  5.2,\n",
       "        2. ,  3. ,  6.2,  3.4,  5.4,  2.3,  3. ,  5.9,  3. ,  5.1,  1.8,\n",
       "        3. ])"
      ]
     },
     "execution_count": 106,
     "metadata": {},
     "output_type": "execute_result"
    }
   ],
   "source": [
    "np.insert(iris,1,[10,10,10,10,10])"
   ]
  },
  {
   "cell_type": "markdown",
   "metadata": {},
   "source": [
    "<h3 style =\"text-decoration: underline\">4.1.2 Supprimer des éléments d'un tableau</h3>"
   ]
  },
  {
   "cell_type": "code",
   "execution_count": 107,
   "metadata": {},
   "outputs": [
    {
     "data": {
      "text/plain": [
       "array([[5.1, 1.4, 0.2, 1. ],\n",
       "       [5.4, 1.7, 0.4, 1. ],\n",
       "       [5.4, 1.5, 0.2, 1. ],\n",
       "       [5.8, 1.2, 0.2, 1. ],\n",
       "       [5.7, 1.5, 0.4, 1. ],\n",
       "       [5.4, 1.3, 0.4, 1. ],\n",
       "       [5.1, 1.4, 0.3, 1. ],\n",
       "       [5.7, 1.7, 0.3, 1. ],\n",
       "       [5.1, 1.5, 0.3, 1. ],\n",
       "       [5.4, 1.7, 0.2, 1. ],\n",
       "       [5.1, 1.5, 0.4, 1. ],\n",
       "       [5.1, 1.7, 0.5, 1. ],\n",
       "       [5.2, 1.5, 0.2, 1. ],\n",
       "       [5.2, 1.4, 0.2, 1. ],\n",
       "       [5.4, 1.5, 0.4, 1. ],\n",
       "       [5.2, 1.5, 0.1, 1. ],\n",
       "       [5.5, 1.4, 0.2, 1. ],\n",
       "       [5.5, 1.3, 0.2, 1. ],\n",
       "       [5.1, 1.5, 0.2, 1. ],\n",
       "       [5.1, 1.9, 0.4, 1. ],\n",
       "       [5.1, 1.6, 0.2, 1. ],\n",
       "       [5.3, 1.5, 0.2, 1. ],\n",
       "       [7. , 4.7, 1.4, 2. ],\n",
       "       [6.4, 4.5, 1.5, 2. ],\n",
       "       [6.9, 4.9, 1.5, 2. ],\n",
       "       [5.5, 4. , 1.3, 2. ],\n",
       "       [6.5, 4.6, 1.5, 2. ],\n",
       "       [5.7, 4.5, 1.3, 2. ],\n",
       "       [6.3, 4.7, 1.6, 2. ],\n",
       "       [6.6, 4.6, 1.3, 2. ],\n",
       "       [5.2, 3.9, 1.4, 2. ],\n",
       "       [5.9, 4.2, 1.5, 2. ],\n",
       "       [6. , 4. , 1. , 2. ],\n",
       "       [6.1, 4.7, 1.4, 2. ],\n",
       "       [5.6, 3.6, 1.3, 2. ],\n",
       "       [6.7, 4.4, 1.4, 2. ],\n",
       "       [5.6, 4.5, 1.5, 2. ],\n",
       "       [5.8, 4.1, 1. , 2. ],\n",
       "       [6.2, 4.5, 1.5, 2. ],\n",
       "       [5.6, 3.9, 1.1, 2. ],\n",
       "       [5.9, 4.8, 1.8, 2. ],\n",
       "       [6.1, 4. , 1.3, 2. ],\n",
       "       [6.3, 4.9, 1.5, 2. ],\n",
       "       [6.1, 4.7, 1.2, 2. ],\n",
       "       [6.4, 4.3, 1.3, 2. ],\n",
       "       [6.6, 4.4, 1.4, 2. ],\n",
       "       [6.8, 4.8, 1.4, 2. ],\n",
       "       [6.7, 5. , 1.7, 2. ],\n",
       "       [6. , 4.5, 1.5, 2. ],\n",
       "       [5.7, 3.5, 1. , 2. ],\n",
       "       [5.5, 3.8, 1.1, 2. ],\n",
       "       [5.5, 3.7, 1. , 2. ],\n",
       "       [5.8, 3.9, 1.2, 2. ],\n",
       "       [6. , 5.1, 1.6, 2. ],\n",
       "       [5.4, 4.5, 1.5, 2. ],\n",
       "       [6. , 4.5, 1.6, 2. ],\n",
       "       [6.7, 4.7, 1.5, 2. ],\n",
       "       [6.3, 4.4, 1.3, 2. ],\n",
       "       [5.6, 4.1, 1.3, 2. ],\n",
       "       [5.5, 4. , 1.3, 2. ],\n",
       "       [5.5, 4.4, 1.2, 2. ],\n",
       "       [6.1, 4.6, 1.4, 2. ],\n",
       "       [5.8, 4. , 1.2, 2. ],\n",
       "       [5.6, 4.2, 1.3, 2. ],\n",
       "       [5.7, 4.2, 1.2, 2. ],\n",
       "       [5.7, 4.2, 1.3, 2. ],\n",
       "       [6.2, 4.3, 1.3, 2. ],\n",
       "       [5.1, 3. , 1.1, 2. ],\n",
       "       [5.7, 4.1, 1.3, 2. ],\n",
       "       [6.3, 6. , 2.5, 3. ],\n",
       "       [5.8, 5.1, 1.9, 3. ],\n",
       "       [7.1, 5.9, 2.1, 3. ],\n",
       "       [6.3, 5.6, 1.8, 3. ],\n",
       "       [6.5, 5.8, 2.2, 3. ],\n",
       "       [7.6, 6.6, 2.1, 3. ],\n",
       "       [7.3, 6.3, 1.8, 3. ],\n",
       "       [6.7, 5.8, 1.8, 3. ],\n",
       "       [7.2, 6.1, 2.5, 3. ],\n",
       "       [6.5, 5.1, 2. , 3. ],\n",
       "       [6.4, 5.3, 1.9, 3. ],\n",
       "       [6.8, 5.5, 2.1, 3. ],\n",
       "       [5.7, 5. , 2. , 3. ],\n",
       "       [5.8, 5.1, 2.4, 3. ],\n",
       "       [6.4, 5.3, 2.3, 3. ],\n",
       "       [6.5, 5.5, 1.8, 3. ],\n",
       "       [7.7, 6.7, 2.2, 3. ],\n",
       "       [7.7, 6.9, 2.3, 3. ],\n",
       "       [6. , 5. , 1.5, 3. ],\n",
       "       [6.9, 5.7, 2.3, 3. ],\n",
       "       [5.6, 4.9, 2. , 3. ],\n",
       "       [7.7, 6.7, 2. , 3. ],\n",
       "       [6.3, 4.9, 1.8, 3. ],\n",
       "       [6.7, 5.7, 2.1, 3. ],\n",
       "       [7.2, 6. , 1.8, 3. ],\n",
       "       [6.2, 4.8, 1.8, 3. ],\n",
       "       [6.1, 4.9, 1.8, 3. ],\n",
       "       [6.4, 5.6, 2.1, 3. ],\n",
       "       [7.2, 5.8, 1.6, 3. ],\n",
       "       [7.4, 6.1, 1.9, 3. ],\n",
       "       [7.9, 6.4, 2. , 3. ],\n",
       "       [6.4, 5.6, 2.2, 3. ],\n",
       "       [6.3, 5.1, 1.5, 3. ],\n",
       "       [6.1, 5.6, 1.4, 3. ],\n",
       "       [7.7, 6.1, 2.3, 3. ],\n",
       "       [6.3, 5.6, 2.4, 3. ],\n",
       "       [6.4, 5.5, 1.8, 3. ],\n",
       "       [6. , 4.8, 1.8, 3. ],\n",
       "       [6.9, 5.4, 2.1, 3. ],\n",
       "       [6.7, 5.6, 2.4, 3. ],\n",
       "       [6.9, 5.1, 2.3, 3. ],\n",
       "       [5.8, 5.1, 1.9, 3. ],\n",
       "       [6.8, 5.9, 2.3, 3. ],\n",
       "       [6.7, 5.7, 2.5, 3. ],\n",
       "       [6.7, 5.2, 2.3, 3. ],\n",
       "       [6.3, 5. , 1.9, 3. ],\n",
       "       [6.5, 5.2, 2. , 3. ],\n",
       "       [6.2, 5.4, 2.3, 3. ],\n",
       "       [5.9, 5.1, 1.8, 3. ]])"
      ]
     },
     "execution_count": 107,
     "metadata": {},
     "output_type": "execute_result"
    }
   ],
   "source": [
    "np.delete(iris,1,axis =1)\n",
    "# On supprime la 2ème colonne (à l'index 1)"
   ]
  },
  {
   "cell_type": "code",
   "execution_count": 108,
   "metadata": {},
   "outputs": [
    {
     "data": {
      "text/plain": [
       "array([[5.1, 3.5, 1.4, 0.2, 1. ],\n",
       "       [5.4, 3.9, 1.3, 0.4, 1. ],\n",
       "       [5.1, 3.5, 1.4, 0.3, 1. ],\n",
       "       [5.7, 3.8, 1.7, 0.3, 1. ],\n",
       "       [5.1, 3.8, 1.5, 0.3, 1. ],\n",
       "       [5.4, 3.4, 1.7, 0.2, 1. ],\n",
       "       [5.1, 3.7, 1.5, 0.4, 1. ],\n",
       "       [5.1, 3.3, 1.7, 0.5, 1. ],\n",
       "       [5.2, 3.5, 1.5, 0.2, 1. ],\n",
       "       [5.2, 3.4, 1.4, 0.2, 1. ],\n",
       "       [5.4, 3.4, 1.5, 0.4, 1. ],\n",
       "       [5.2, 4.1, 1.5, 0.1, 1. ],\n",
       "       [5.5, 4.2, 1.4, 0.2, 1. ],\n",
       "       [5.5, 3.5, 1.3, 0.2, 1. ],\n",
       "       [5.1, 3.4, 1.5, 0.2, 1. ],\n",
       "       [5.1, 3.8, 1.9, 0.4, 1. ],\n",
       "       [5.1, 3.8, 1.6, 0.2, 1. ],\n",
       "       [5.3, 3.7, 1.5, 0.2, 1. ],\n",
       "       [7. , 3.2, 4.7, 1.4, 2. ],\n",
       "       [6.4, 3.2, 4.5, 1.5, 2. ],\n",
       "       [6.9, 3.1, 4.9, 1.5, 2. ],\n",
       "       [5.5, 2.3, 4. , 1.3, 2. ],\n",
       "       [6.5, 2.8, 4.6, 1.5, 2. ],\n",
       "       [5.7, 2.8, 4.5, 1.3, 2. ],\n",
       "       [6.3, 3.3, 4.7, 1.6, 2. ],\n",
       "       [6.6, 2.9, 4.6, 1.3, 2. ],\n",
       "       [5.2, 2.7, 3.9, 1.4, 2. ],\n",
       "       [5.9, 3. , 4.2, 1.5, 2. ],\n",
       "       [6. , 2.2, 4. , 1. , 2. ],\n",
       "       [6.1, 2.9, 4.7, 1.4, 2. ],\n",
       "       [5.6, 2.9, 3.6, 1.3, 2. ],\n",
       "       [6.7, 3.1, 4.4, 1.4, 2. ],\n",
       "       [5.6, 3. , 4.5, 1.5, 2. ],\n",
       "       [5.8, 2.7, 4.1, 1. , 2. ],\n",
       "       [6.2, 2.2, 4.5, 1.5, 2. ],\n",
       "       [5.6, 2.5, 3.9, 1.1, 2. ],\n",
       "       [5.9, 3.2, 4.8, 1.8, 2. ],\n",
       "       [6.1, 2.8, 4. , 1.3, 2. ],\n",
       "       [6.3, 2.5, 4.9, 1.5, 2. ],\n",
       "       [6.1, 2.8, 4.7, 1.2, 2. ],\n",
       "       [6.4, 2.9, 4.3, 1.3, 2. ],\n",
       "       [6.6, 3. , 4.4, 1.4, 2. ],\n",
       "       [6.8, 2.8, 4.8, 1.4, 2. ],\n",
       "       [6.7, 3. , 5. , 1.7, 2. ],\n",
       "       [6. , 2.9, 4.5, 1.5, 2. ],\n",
       "       [5.7, 2.6, 3.5, 1. , 2. ],\n",
       "       [5.5, 2.4, 3.8, 1.1, 2. ],\n",
       "       [5.5, 2.4, 3.7, 1. , 2. ],\n",
       "       [5.8, 2.7, 3.9, 1.2, 2. ],\n",
       "       [6. , 2.7, 5.1, 1.6, 2. ],\n",
       "       [5.4, 3. , 4.5, 1.5, 2. ],\n",
       "       [6. , 3.4, 4.5, 1.6, 2. ],\n",
       "       [6.7, 3.1, 4.7, 1.5, 2. ],\n",
       "       [6.3, 2.3, 4.4, 1.3, 2. ],\n",
       "       [5.6, 3. , 4.1, 1.3, 2. ],\n",
       "       [5.5, 2.5, 4. , 1.3, 2. ],\n",
       "       [5.5, 2.6, 4.4, 1.2, 2. ],\n",
       "       [6.1, 3. , 4.6, 1.4, 2. ],\n",
       "       [5.8, 2.6, 4. , 1.2, 2. ],\n",
       "       [5.6, 2.7, 4.2, 1.3, 2. ],\n",
       "       [5.7, 3. , 4.2, 1.2, 2. ],\n",
       "       [5.7, 2.9, 4.2, 1.3, 2. ],\n",
       "       [6.2, 2.9, 4.3, 1.3, 2. ],\n",
       "       [5.1, 2.5, 3. , 1.1, 2. ],\n",
       "       [5.7, 2.8, 4.1, 1.3, 2. ],\n",
       "       [6.3, 3.3, 6. , 2.5, 3. ],\n",
       "       [5.8, 2.7, 5.1, 1.9, 3. ],\n",
       "       [7.1, 3. , 5.9, 2.1, 3. ],\n",
       "       [6.3, 2.9, 5.6, 1.8, 3. ],\n",
       "       [6.5, 3. , 5.8, 2.2, 3. ],\n",
       "       [7.6, 3. , 6.6, 2.1, 3. ],\n",
       "       [7.3, 2.9, 6.3, 1.8, 3. ],\n",
       "       [6.7, 2.5, 5.8, 1.8, 3. ],\n",
       "       [7.2, 3.6, 6.1, 2.5, 3. ],\n",
       "       [6.5, 3.2, 5.1, 2. , 3. ],\n",
       "       [6.4, 2.7, 5.3, 1.9, 3. ],\n",
       "       [6.8, 3. , 5.5, 2.1, 3. ],\n",
       "       [5.7, 2.5, 5. , 2. , 3. ],\n",
       "       [5.8, 2.8, 5.1, 2.4, 3. ],\n",
       "       [6.4, 3.2, 5.3, 2.3, 3. ],\n",
       "       [6.5, 3. , 5.5, 1.8, 3. ],\n",
       "       [7.7, 3.8, 6.7, 2.2, 3. ],\n",
       "       [7.7, 2.6, 6.9, 2.3, 3. ],\n",
       "       [6. , 2.2, 5. , 1.5, 3. ],\n",
       "       [6.9, 3.2, 5.7, 2.3, 3. ],\n",
       "       [5.6, 2.8, 4.9, 2. , 3. ],\n",
       "       [7.7, 2.8, 6.7, 2. , 3. ],\n",
       "       [6.3, 2.7, 4.9, 1.8, 3. ],\n",
       "       [6.7, 3.3, 5.7, 2.1, 3. ],\n",
       "       [7.2, 3.2, 6. , 1.8, 3. ],\n",
       "       [6.2, 2.8, 4.8, 1.8, 3. ],\n",
       "       [6.1, 3. , 4.9, 1.8, 3. ],\n",
       "       [6.4, 2.8, 5.6, 2.1, 3. ],\n",
       "       [7.2, 3. , 5.8, 1.6, 3. ],\n",
       "       [7.4, 2.8, 6.1, 1.9, 3. ],\n",
       "       [7.9, 3.8, 6.4, 2. , 3. ],\n",
       "       [6.4, 2.8, 5.6, 2.2, 3. ],\n",
       "       [6.3, 2.8, 5.1, 1.5, 3. ],\n",
       "       [6.1, 2.6, 5.6, 1.4, 3. ],\n",
       "       [7.7, 3. , 6.1, 2.3, 3. ],\n",
       "       [6.3, 3.4, 5.6, 2.4, 3. ],\n",
       "       [6.4, 3.1, 5.5, 1.8, 3. ],\n",
       "       [6. , 3. , 4.8, 1.8, 3. ],\n",
       "       [6.9, 3.1, 5.4, 2.1, 3. ],\n",
       "       [6.7, 3.1, 5.6, 2.4, 3. ],\n",
       "       [6.9, 3.1, 5.1, 2.3, 3. ],\n",
       "       [5.8, 2.7, 5.1, 1.9, 3. ],\n",
       "       [6.8, 3.2, 5.9, 2.3, 3. ],\n",
       "       [6.7, 3.3, 5.7, 2.5, 3. ],\n",
       "       [6.7, 3. , 5.2, 2.3, 3. ],\n",
       "       [6.3, 2.5, 5. , 1.9, 3. ],\n",
       "       [6.5, 3. , 5.2, 2. , 3. ],\n",
       "       [6.2, 3.4, 5.4, 2.3, 3. ],\n",
       "       [5.9, 3. , 5.1, 1.8, 3. ]])"
      ]
     },
     "execution_count": 108,
     "metadata": {},
     "output_type": "execute_result"
    }
   ],
   "source": [
    "np.delete(iris, [1,2,3,4], axis = 0)\n",
    "# On supprime les lignes à l'index 1,2,3 et 4"
   ]
  },
  {
   "cell_type": "code",
   "execution_count": 109,
   "metadata": {},
   "outputs": [
    {
     "data": {
      "text/plain": [
       "array([10,  3,  4,  5,  6,  7,  8,  9, 10, 11, 12, 13, 14, 15, 16, 17, 18,\n",
       "       19, 20])"
      ]
     },
     "execution_count": 109,
     "metadata": {},
     "output_type": "execute_result"
    }
   ],
   "source": [
    "np.delete(notre_tableau,1)"
   ]
  },
  {
   "cell_type": "markdown",
   "metadata": {},
   "source": [
    "<h3 style =\"text-decoration: underline\">4.2 Diviser un tableau Numpy(split, hsplit et vsplit)</h3>"
   ]
  },
  {
   "cell_type": "markdown",
   "metadata": {},
   "source": [
    "<h3 style =\"text-decoration: underline\">4.2.1 Sur un tableau à une dimension</h3>"
   ]
  },
  {
   "cell_type": "code",
   "execution_count": 110,
   "metadata": {},
   "outputs": [
    {
     "data": {
      "text/plain": [
       "array([10,  2,  3,  4,  5,  6,  7,  8,  9, 10, 11, 12, 13, 14, 15, 16, 17,\n",
       "       18, 19, 20])"
      ]
     },
     "execution_count": 110,
     "metadata": {},
     "output_type": "execute_result"
    }
   ],
   "source": [
    "notre_tableau"
   ]
  },
  {
   "cell_type": "code",
   "execution_count": 111,
   "metadata": {},
   "outputs": [
    {
     "name": "stdout",
     "output_type": "stream",
     "text": [
      "[10  2] [3 4 5 6] [ 7  8  9 10 11 12 13 14 15 16 17 18 19 20]\n"
     ]
    }
   ],
   "source": [
    "(notre_tableau1, notre_tableau2, notre_tableau3) = np.split(notre_tableau, [2,6])\n",
    "print(notre_tableau1,notre_tableau2, notre_tableau3 )"
   ]
  },
  {
   "cell_type": "markdown",
   "metadata": {},
   "source": [
    "<h3 style =\"text-decoration: underline\">4.2.2 Sur un tableau à 2 dimensions</h3>"
   ]
  },
  {
   "cell_type": "code",
   "execution_count": 113,
   "metadata": {},
   "outputs": [
    {
     "name": "stdout",
     "output_type": "stream",
     "text": [
      "Avant division\n",
      "[[ 2.  5.  6.]\n",
      " [ 9. 10. 11.]\n",
      " [ 5.  6.  9.]]\n",
      "Après division\n",
      "[[ 2.  5.  6.]\n",
      " [ 9. 10. 11.]]\n",
      "[[5. 6. 9.]]\n"
     ]
    }
   ],
   "source": [
    "array = np.array([[2,5,6],[9,10,11],[5,6,9]],dtype = \"float\")\n",
    "print(\"Avant division\")\n",
    "print(array)\n",
    "array1, array2 = np.vsplit(array, [2])\n",
    "print(\"Après division\")\n",
    "print(array1)\n",
    "print(array2)"
   ]
  },
  {
   "cell_type": "code",
   "execution_count": 115,
   "metadata": {},
   "outputs": [
    {
     "name": "stdout",
     "output_type": "stream",
     "text": [
      "Avant division\n",
      "[[ 2.  5.  6.]\n",
      " [ 9. 10. 11.]\n",
      " [ 5.  6.  9.]]\n",
      "Après division\n",
      "[[ 2.  5.]\n",
      " [ 9. 10.]\n",
      " [ 5.  6.]]\n",
      "[[ 6.]\n",
      " [11.]\n",
      " [ 9.]]\n"
     ]
    }
   ],
   "source": [
    "array = np.array([[2,5,6],[9,10,11],[5,6,9]],dtype=\"float\")\n",
    "print(\"Avant division\")\n",
    "print(array)\n",
    "array1,array2 = np.hsplit(array,[2])\n",
    "print(\"Après division\")\n",
    "print(array1)\n",
    "print(array2)"
   ]
  },
  {
   "cell_type": "markdown",
   "metadata": {},
   "source": [
    "<h3 style =\"text-decoration: underline\">4.3 Concaténer/combiner des tableaux</h3>"
   ]
  },
  {
   "cell_type": "markdown",
   "metadata": {},
   "source": [
    "<h3 style =\"text-decoration: underline\">4.3.1 La fonction concatenate()<h3>"
   ]
  },
  {
   "cell_type": "code",
   "execution_count": 117,
   "metadata": {},
   "outputs": [
    {
     "name": "stdout",
     "output_type": "stream",
     "text": [
      "[1 2 3 4 5]\n",
      "[6 7 8 9]\n"
     ]
    },
    {
     "data": {
      "text/plain": [
       "array([1, 2, 3, 4, 5, 6, 7, 8, 9, 6, 7, 8, 9])"
      ]
     },
     "execution_count": 117,
     "metadata": {},
     "output_type": "execute_result"
    }
   ],
   "source": [
    "array1 = np.array([1,2,3,4,5])\n",
    "array2 = np.array([6,7,8,9])\n",
    "array3 = np.array([6,7,8,9])\n",
    "print(array1)\n",
    "print(array2)\n",
    "np.concatenate([array1, array2, array3])"
   ]
  },
  {
   "cell_type": "code",
   "execution_count": 118,
   "metadata": {},
   "outputs": [
    {
     "name": "stdout",
     "output_type": "stream",
     "text": [
      "[[1. 2. 3.]\n",
      " [4. 5. 6.]\n",
      " [7. 8. 9.]]\n",
      "[[ 2.  5.  6.]\n",
      " [ 9. 10. 11.]\n",
      " [ 5.  6.  9.]]\n"
     ]
    },
    {
     "data": {
      "text/plain": [
       "array([[ 1.,  2.,  3.],\n",
       "       [ 4.,  5.,  6.],\n",
       "       [ 7.,  8.,  9.],\n",
       "       [ 2.,  5.,  6.],\n",
       "       [ 9., 10., 11.],\n",
       "       [ 5.,  6.,  9.]])"
      ]
     },
     "execution_count": 118,
     "metadata": {},
     "output_type": "execute_result"
    }
   ],
   "source": [
    "array1 = np.array([[1,2,3],[4,5,6],[7,8,9]],dtype=\"float\")\n",
    "array2 = np.array([[2,5,6],[9,10,11],[5,6,9]],dtype=\"float\")\n",
    "print(array1)\n",
    "print(array2)\n",
    "np.concatenate([array1, array2])"
   ]
  },
  {
   "cell_type": "code",
   "execution_count": 119,
   "metadata": {},
   "outputs": [
    {
     "data": {
      "text/plain": [
       "array([[ 1.,  2.,  3.],\n",
       "       [ 4.,  5.,  6.],\n",
       "       [ 7.,  8.,  9.],\n",
       "       [ 2.,  5.,  6.],\n",
       "       [ 9., 10., 11.],\n",
       "       [ 5.,  6.,  9.],\n",
       "       [ 4., 10., 13.],\n",
       "       [ 7., 14., 15.]])"
      ]
     },
     "execution_count": 119,
     "metadata": {},
     "output_type": "execute_result"
    }
   ],
   "source": [
    "array3 = np.array([[4,10,13],[7,14,15]], dtype = \"float\")\n",
    "np.concatenate([array1, array2, array3])"
   ]
  },
  {
   "cell_type": "markdown",
   "metadata": {},
   "source": [
    "<h3 style =\"text-decoration: underline\">4.3.2 La fonction vstack() et hstack()</h3>"
   ]
  },
  {
   "cell_type": "code",
   "execution_count": 120,
   "metadata": {},
   "outputs": [
    {
     "name": "stdout",
     "output_type": "stream",
     "text": [
      "[15 16 47]\n",
      "----\n",
      "[[1. 2. 3.]\n",
      " [4. 5. 6.]\n",
      " [7. 8. 9.]]\n",
      "----\n",
      "[[15. 16. 47.]\n",
      " [ 1.  2.  3.]\n",
      " [ 4.  5.  6.]\n",
      " [ 7.  8.  9.]]\n",
      "----\n",
      "[[15]\n",
      " [16]\n",
      " [47]]\n",
      "----\n",
      "[[1. 2. 3.]\n",
      " [4. 5. 6.]\n",
      " [7. 8. 9.]]\n",
      "----\n",
      "[[15.  1.  2.  3.]\n",
      " [16.  4.  5.  6.]\n",
      " [47.  7.  8.  9.]]\n"
     ]
    }
   ],
   "source": [
    "array1 = np.array([15,16,47])\n",
    "array2 = np.array([[1,2,3],[4,5,6],[7,8,9]],dtype = \"float\")\n",
    "print(array1)\n",
    "print(\"----\")\n",
    "print(array2)\n",
    "print(\"----\")\n",
    "print(np.vstack([array1, array2]))\n",
    "\n",
    "\n",
    "array1 = np.array([[15],[16],[47]])\n",
    "print(\"----\")\n",
    "print(array1)\n",
    "print(\"----\")\n",
    "print(array2)\n",
    "print(\"----\")\n",
    "print(np.hstack([array1,array2]))"
   ]
  },
  {
   "cell_type": "code",
   "execution_count": 121,
   "metadata": {},
   "outputs": [
    {
     "data": {
      "text/plain": [
       "array([[ 1.,  4.,  9.],\n",
       "       [16., 25., 36.],\n",
       "       [49., 64., 81.]])"
      ]
     },
     "execution_count": 121,
     "metadata": {},
     "output_type": "execute_result"
    }
   ],
   "source": [
    "# multiplication de deux tableau ndarrays \n",
    "array2*array2"
   ]
  },
  {
   "cell_type": "code",
   "execution_count": 122,
   "metadata": {},
   "outputs": [
    {
     "data": {
      "text/plain": [
       "matrix([[ 30.,  36.,  42.],\n",
       "        [ 66.,  81.,  96.],\n",
       "        [102., 126., 150.]])"
      ]
     },
     "execution_count": 122,
     "metadata": {},
     "output_type": "execute_result"
    }
   ],
   "source": [
    "#produit matriciel entre les deux matrices array2\n",
    "np.mat(array2)*np.mat(array2)"
   ]
  },
  {
   "cell_type": "code",
   "execution_count": 123,
   "metadata": {},
   "outputs": [
    {
     "name": "stdout",
     "output_type": "stream",
     "text": [
      "[[5.1 3.5 1.4 0.2 1. ]\n",
      " [5.4 3.9 1.7 0.4 1. ]\n",
      " [5.4 3.7 1.5 0.2 1. ]\n",
      " [5.8 4.  1.2 0.2 1. ]\n",
      " [5.7 4.4 1.5 0.4 1. ]\n",
      " [5.4 3.9 1.3 0.4 1. ]\n",
      " [5.1 3.5 1.4 0.3 1. ]\n",
      " [5.7 3.8 1.7 0.3 1. ]\n",
      " [5.1 3.8 1.5 0.3 1. ]\n",
      " [5.4 3.4 1.7 0.2 1. ]\n",
      " [5.1 3.7 1.5 0.4 1. ]\n",
      " [5.1 3.3 1.7 0.5 1. ]\n",
      " [5.2 3.5 1.5 0.2 1. ]\n",
      " [5.2 3.4 1.4 0.2 1. ]\n",
      " [5.4 3.4 1.5 0.4 1. ]\n",
      " [5.2 4.1 1.5 0.1 1. ]\n",
      " [5.5 4.2 1.4 0.2 1. ]\n",
      " [5.5 3.5 1.3 0.2 1. ]\n",
      " [5.1 3.4 1.5 0.2 1. ]\n",
      " [5.1 3.8 1.9 0.4 1. ]\n",
      " [5.1 3.8 1.6 0.2 1. ]\n",
      " [5.3 3.7 1.5 0.2 1. ]\n",
      " [7.  3.2 4.7 1.4 2. ]\n",
      " [6.4 3.2 4.5 1.5 2. ]\n",
      " [6.9 3.1 4.9 1.5 2. ]\n",
      " [5.5 2.3 4.  1.3 2. ]\n",
      " [6.5 2.8 4.6 1.5 2. ]\n",
      " [5.7 2.8 4.5 1.3 2. ]\n",
      " [6.3 3.3 4.7 1.6 2. ]\n",
      " [6.6 2.9 4.6 1.3 2. ]\n",
      " [5.2 2.7 3.9 1.4 2. ]\n",
      " [5.9 3.  4.2 1.5 2. ]\n",
      " [6.  2.2 4.  1.  2. ]\n",
      " [6.1 2.9 4.7 1.4 2. ]\n",
      " [5.6 2.9 3.6 1.3 2. ]\n",
      " [6.7 3.1 4.4 1.4 2. ]\n",
      " [5.6 3.  4.5 1.5 2. ]\n",
      " [5.8 2.7 4.1 1.  2. ]\n",
      " [6.2 2.2 4.5 1.5 2. ]\n",
      " [5.6 2.5 3.9 1.1 2. ]\n",
      " [5.9 3.2 4.8 1.8 2. ]\n",
      " [6.1 2.8 4.  1.3 2. ]\n",
      " [6.3 2.5 4.9 1.5 2. ]\n",
      " [6.1 2.8 4.7 1.2 2. ]\n",
      " [6.4 2.9 4.3 1.3 2. ]\n",
      " [6.6 3.  4.4 1.4 2. ]\n",
      " [6.8 2.8 4.8 1.4 2. ]\n",
      " [6.7 3.  5.  1.7 2. ]\n",
      " [6.  2.9 4.5 1.5 2. ]\n",
      " [5.7 2.6 3.5 1.  2. ]\n",
      " [5.5 2.4 3.8 1.1 2. ]\n",
      " [5.5 2.4 3.7 1.  2. ]\n",
      " [5.8 2.7 3.9 1.2 2. ]\n",
      " [6.  2.7 5.1 1.6 2. ]\n",
      " [5.4 3.  4.5 1.5 2. ]\n",
      " [6.  3.4 4.5 1.6 2. ]\n",
      " [6.7 3.1 4.7 1.5 2. ]\n",
      " [6.3 2.3 4.4 1.3 2. ]\n",
      " [5.6 3.  4.1 1.3 2. ]\n",
      " [5.5 2.5 4.  1.3 2. ]\n",
      " [5.5 2.6 4.4 1.2 2. ]\n",
      " [6.1 3.  4.6 1.4 2. ]\n",
      " [5.8 2.6 4.  1.2 2. ]\n",
      " [5.6 2.7 4.2 1.3 2. ]\n",
      " [5.7 3.  4.2 1.2 2. ]\n",
      " [5.7 2.9 4.2 1.3 2. ]\n",
      " [6.2 2.9 4.3 1.3 2. ]\n",
      " [5.1 2.5 3.  1.1 2. ]\n",
      " [5.7 2.8 4.1 1.3 2. ]\n",
      " [6.3 3.3 6.  2.5 3. ]\n",
      " [5.8 2.7 5.1 1.9 3. ]\n",
      " [7.1 3.  5.9 2.1 3. ]\n",
      " [6.3 2.9 5.6 1.8 3. ]\n",
      " [6.5 3.  5.8 2.2 3. ]\n",
      " [7.6 3.  6.6 2.1 3. ]\n",
      " [7.3 2.9 6.3 1.8 3. ]\n",
      " [6.7 2.5 5.8 1.8 3. ]\n",
      " [7.2 3.6 6.1 2.5 3. ]\n",
      " [6.5 3.2 5.1 2.  3. ]\n",
      " [6.4 2.7 5.3 1.9 3. ]\n",
      " [6.8 3.  5.5 2.1 3. ]\n",
      " [5.7 2.5 5.  2.  3. ]\n",
      " [5.8 2.8 5.1 2.4 3. ]\n",
      " [6.4 3.2 5.3 2.3 3. ]\n",
      " [6.5 3.  5.5 1.8 3. ]\n",
      " [7.7 3.8 6.7 2.2 3. ]\n",
      " [7.7 2.6 6.9 2.3 3. ]\n",
      " [6.  2.2 5.  1.5 3. ]\n",
      " [6.9 3.2 5.7 2.3 3. ]\n",
      " [5.6 2.8 4.9 2.  3. ]\n",
      " [7.7 2.8 6.7 2.  3. ]\n",
      " [6.3 2.7 4.9 1.8 3. ]\n",
      " [6.7 3.3 5.7 2.1 3. ]\n",
      " [7.2 3.2 6.  1.8 3. ]\n",
      " [6.2 2.8 4.8 1.8 3. ]\n",
      " [6.1 3.  4.9 1.8 3. ]\n",
      " [6.4 2.8 5.6 2.1 3. ]\n",
      " [7.2 3.  5.8 1.6 3. ]\n",
      " [7.4 2.8 6.1 1.9 3. ]\n",
      " [7.9 3.8 6.4 2.  3. ]\n",
      " [6.4 2.8 5.6 2.2 3. ]\n",
      " [6.3 2.8 5.1 1.5 3. ]\n",
      " [6.1 2.6 5.6 1.4 3. ]\n",
      " [7.7 3.  6.1 2.3 3. ]\n",
      " [6.3 3.4 5.6 2.4 3. ]\n",
      " [6.4 3.1 5.5 1.8 3. ]\n",
      " [6.  3.  4.8 1.8 3. ]\n",
      " [6.9 3.1 5.4 2.1 3. ]\n",
      " [6.7 3.1 5.6 2.4 3. ]\n",
      " [6.9 3.1 5.1 2.3 3. ]\n",
      " [5.8 2.7 5.1 1.9 3. ]\n",
      " [6.8 3.2 5.9 2.3 3. ]\n",
      " [6.7 3.3 5.7 2.5 3. ]\n",
      " [6.7 3.  5.2 2.3 3. ]\n",
      " [6.3 2.5 5.  1.9 3. ]\n",
      " [6.5 3.  5.2 2.  3. ]\n",
      " [6.2 3.4 5.4 2.3 3. ]\n",
      " [5.9 3.  5.1 1.8 3. ]]\n"
     ]
    }
   ],
   "source": [
    "print(iris)"
   ]
  },
  {
   "cell_type": "code",
   "execution_count": 130,
   "metadata": {},
   "outputs": [
    {
     "name": "stdout",
     "output_type": "stream",
     "text": [
      "[2.55  2.85  2.7   2.8   3.    2.75  2.575 2.875 2.675 2.675 2.675 2.65\n",
      " 2.6   2.55  2.675 2.725 2.825 2.625 2.55  2.8   2.675 2.675 4.075 3.9\n",
      " 4.1   3.275 3.85  3.575 3.975 3.85  3.3   3.65  3.3   3.775 3.35  3.9\n",
      " 3.65  3.4   3.6   3.275 3.925 3.55  3.8   3.7   3.725 3.85  3.95  4.1\n",
      " 3.725 3.2   3.2   3.15  3.4   3.85  3.6   3.875 4.    3.575 3.5   3.325\n",
      " 3.425 3.775 3.4   3.45  3.525 3.525 3.675 2.925 3.475 4.525 3.875 4.525\n",
      " 4.15  4.375 4.825 4.575 4.2   4.85  4.2   4.075 4.35  3.8   4.025 4.3\n",
      " 4.2   5.1   4.875 3.675 4.525 3.825 4.8   3.925 4.45  4.55  3.9   3.95\n",
      " 4.225 4.4   4.55  5.025 4.25  3.925 3.925 4.775 4.425 4.2   3.9   4.375\n",
      " 4.45  4.35  3.875 4.55  4.55  4.3   3.925 4.175 4.325 3.95 ]\n",
      "[[5.1   3.5   1.4   0.2   1.    2.55 ]\n",
      " [5.4   3.9   1.7   0.4   1.    2.85 ]\n",
      " [5.4   3.7   1.5   0.2   1.    2.7  ]\n",
      " [5.8   4.    1.2   0.2   1.    2.8  ]\n",
      " [5.7   4.4   1.5   0.4   1.    3.   ]\n",
      " [5.4   3.9   1.3   0.4   1.    2.75 ]\n",
      " [5.1   3.5   1.4   0.3   1.    2.575]\n",
      " [5.7   3.8   1.7   0.3   1.    2.875]\n",
      " [5.1   3.8   1.5   0.3   1.    2.675]\n",
      " [5.4   3.4   1.7   0.2   1.    2.675]\n",
      " [5.1   3.7   1.5   0.4   1.    2.675]\n",
      " [5.1   3.3   1.7   0.5   1.    2.65 ]\n",
      " [5.2   3.5   1.5   0.2   1.    2.6  ]\n",
      " [5.2   3.4   1.4   0.2   1.    2.55 ]\n",
      " [5.4   3.4   1.5   0.4   1.    2.675]\n",
      " [5.2   4.1   1.5   0.1   1.    2.725]\n",
      " [5.5   4.2   1.4   0.2   1.    2.825]\n",
      " [5.5   3.5   1.3   0.2   1.    2.625]\n",
      " [5.1   3.4   1.5   0.2   1.    2.55 ]\n",
      " [5.1   3.8   1.9   0.4   1.    2.8  ]\n",
      " [5.1   3.8   1.6   0.2   1.    2.675]\n",
      " [5.3   3.7   1.5   0.2   1.    2.675]\n",
      " [7.    3.2   4.7   1.4   2.    4.075]\n",
      " [6.4   3.2   4.5   1.5   2.    3.9  ]\n",
      " [6.9   3.1   4.9   1.5   2.    4.1  ]\n",
      " [5.5   2.3   4.    1.3   2.    3.275]\n",
      " [6.5   2.8   4.6   1.5   2.    3.85 ]\n",
      " [5.7   2.8   4.5   1.3   2.    3.575]\n",
      " [6.3   3.3   4.7   1.6   2.    3.975]\n",
      " [6.6   2.9   4.6   1.3   2.    3.85 ]\n",
      " [5.2   2.7   3.9   1.4   2.    3.3  ]\n",
      " [5.9   3.    4.2   1.5   2.    3.65 ]\n",
      " [6.    2.2   4.    1.    2.    3.3  ]\n",
      " [6.1   2.9   4.7   1.4   2.    3.775]\n",
      " [5.6   2.9   3.6   1.3   2.    3.35 ]\n",
      " [6.7   3.1   4.4   1.4   2.    3.9  ]\n",
      " [5.6   3.    4.5   1.5   2.    3.65 ]\n",
      " [5.8   2.7   4.1   1.    2.    3.4  ]\n",
      " [6.2   2.2   4.5   1.5   2.    3.6  ]\n",
      " [5.6   2.5   3.9   1.1   2.    3.275]\n",
      " [5.9   3.2   4.8   1.8   2.    3.925]\n",
      " [6.1   2.8   4.    1.3   2.    3.55 ]\n",
      " [6.3   2.5   4.9   1.5   2.    3.8  ]\n",
      " [6.1   2.8   4.7   1.2   2.    3.7  ]\n",
      " [6.4   2.9   4.3   1.3   2.    3.725]\n",
      " [6.6   3.    4.4   1.4   2.    3.85 ]\n",
      " [6.8   2.8   4.8   1.4   2.    3.95 ]\n",
      " [6.7   3.    5.    1.7   2.    4.1  ]\n",
      " [6.    2.9   4.5   1.5   2.    3.725]\n",
      " [5.7   2.6   3.5   1.    2.    3.2  ]\n",
      " [5.5   2.4   3.8   1.1   2.    3.2  ]\n",
      " [5.5   2.4   3.7   1.    2.    3.15 ]\n",
      " [5.8   2.7   3.9   1.2   2.    3.4  ]\n",
      " [6.    2.7   5.1   1.6   2.    3.85 ]\n",
      " [5.4   3.    4.5   1.5   2.    3.6  ]\n",
      " [6.    3.4   4.5   1.6   2.    3.875]\n",
      " [6.7   3.1   4.7   1.5   2.    4.   ]\n",
      " [6.3   2.3   4.4   1.3   2.    3.575]\n",
      " [5.6   3.    4.1   1.3   2.    3.5  ]\n",
      " [5.5   2.5   4.    1.3   2.    3.325]\n",
      " [5.5   2.6   4.4   1.2   2.    3.425]\n",
      " [6.1   3.    4.6   1.4   2.    3.775]\n",
      " [5.8   2.6   4.    1.2   2.    3.4  ]\n",
      " [5.6   2.7   4.2   1.3   2.    3.45 ]\n",
      " [5.7   3.    4.2   1.2   2.    3.525]\n",
      " [5.7   2.9   4.2   1.3   2.    3.525]\n",
      " [6.2   2.9   4.3   1.3   2.    3.675]\n",
      " [5.1   2.5   3.    1.1   2.    2.925]\n",
      " [5.7   2.8   4.1   1.3   2.    3.475]\n",
      " [6.3   3.3   6.    2.5   3.    4.525]\n",
      " [5.8   2.7   5.1   1.9   3.    3.875]\n",
      " [7.1   3.    5.9   2.1   3.    4.525]\n",
      " [6.3   2.9   5.6   1.8   3.    4.15 ]\n",
      " [6.5   3.    5.8   2.2   3.    4.375]\n",
      " [7.6   3.    6.6   2.1   3.    4.825]\n",
      " [7.3   2.9   6.3   1.8   3.    4.575]\n",
      " [6.7   2.5   5.8   1.8   3.    4.2  ]\n",
      " [7.2   3.6   6.1   2.5   3.    4.85 ]\n",
      " [6.5   3.2   5.1   2.    3.    4.2  ]\n",
      " [6.4   2.7   5.3   1.9   3.    4.075]\n",
      " [6.8   3.    5.5   2.1   3.    4.35 ]\n",
      " [5.7   2.5   5.    2.    3.    3.8  ]\n",
      " [5.8   2.8   5.1   2.4   3.    4.025]\n",
      " [6.4   3.2   5.3   2.3   3.    4.3  ]\n",
      " [6.5   3.    5.5   1.8   3.    4.2  ]\n",
      " [7.7   3.8   6.7   2.2   3.    5.1  ]\n",
      " [7.7   2.6   6.9   2.3   3.    4.875]\n",
      " [6.    2.2   5.    1.5   3.    3.675]\n",
      " [6.9   3.2   5.7   2.3   3.    4.525]\n",
      " [5.6   2.8   4.9   2.    3.    3.825]\n",
      " [7.7   2.8   6.7   2.    3.    4.8  ]\n",
      " [6.3   2.7   4.9   1.8   3.    3.925]\n",
      " [6.7   3.3   5.7   2.1   3.    4.45 ]\n",
      " [7.2   3.2   6.    1.8   3.    4.55 ]\n",
      " [6.2   2.8   4.8   1.8   3.    3.9  ]\n",
      " [6.1   3.    4.9   1.8   3.    3.95 ]\n",
      " [6.4   2.8   5.6   2.1   3.    4.225]\n",
      " [7.2   3.    5.8   1.6   3.    4.4  ]\n",
      " [7.4   2.8   6.1   1.9   3.    4.55 ]\n",
      " [7.9   3.8   6.4   2.    3.    5.025]\n",
      " [6.4   2.8   5.6   2.2   3.    4.25 ]\n",
      " [6.3   2.8   5.1   1.5   3.    3.925]\n",
      " [6.1   2.6   5.6   1.4   3.    3.925]\n",
      " [7.7   3.    6.1   2.3   3.    4.775]\n",
      " [6.3   3.4   5.6   2.4   3.    4.425]\n",
      " [6.4   3.1   5.5   1.8   3.    4.2  ]\n",
      " [6.    3.    4.8   1.8   3.    3.9  ]\n",
      " [6.9   3.1   5.4   2.1   3.    4.375]\n",
      " [6.7   3.1   5.6   2.4   3.    4.45 ]\n",
      " [6.9   3.1   5.1   2.3   3.    4.35 ]\n",
      " [5.8   2.7   5.1   1.9   3.    3.875]\n",
      " [6.8   3.2   5.9   2.3   3.    4.55 ]\n",
      " [6.7   3.3   5.7   2.5   3.    4.55 ]\n",
      " [6.7   3.    5.2   2.3   3.    4.3  ]\n",
      " [6.3   2.5   5.    1.9   3.    3.925]\n",
      " [6.5   3.    5.2   2.    3.    4.175]\n",
      " [6.2   3.4   5.4   2.3   3.    4.325]\n",
      " [5.9   3.    5.1   1.8   3.    3.95 ]]\n"
     ]
    }
   ],
   "source": [
    "\n",
    "mean_column = np.mean(iris[:,0:4], axis = 1)\n",
    "print(mean_column)\n",
    "new_iris = np.insert(iris, 5,mean_column, axis=1)\n",
    "print(new_iris)\n"
   ]
  },
  {
   "cell_type": "code",
   "execution_count": 131,
   "metadata": {},
   "outputs": [
    {
     "name": "stdout",
     "output_type": "stream",
     "text": [
      "[[5.1   3.5   1.4   0.2   1.    2.55 ]\n",
      " [5.4   3.9   1.7   0.4   1.    2.85 ]\n",
      " [5.4   3.7   1.5   0.2   1.    2.7  ]\n",
      " [5.8   4.    1.2   0.2   1.    2.8  ]\n",
      " [5.7   4.4   1.5   0.4   1.    3.   ]\n",
      " [5.4   3.9   1.3   0.4   1.    2.75 ]\n",
      " [5.1   3.5   1.4   0.3   1.    2.575]\n",
      " [5.7   3.8   1.7   0.3   1.    2.875]\n",
      " [5.1   3.8   1.5   0.3   1.    2.675]\n",
      " [5.4   3.4   1.7   0.2   1.    2.675]\n",
      " [5.1   3.7   1.5   0.4   1.    2.675]\n",
      " [5.1   3.3   1.7   0.5   1.    2.65 ]\n",
      " [5.2   3.5   1.5   0.2   1.    2.6  ]\n",
      " [5.2   3.4   1.4   0.2   1.    2.55 ]\n",
      " [5.4   3.4   1.5   0.4   1.    2.675]\n",
      " [5.2   4.1   1.5   0.1   1.    2.725]\n",
      " [5.5   4.2   1.4   0.2   1.    2.825]\n",
      " [5.5   3.5   1.3   0.2   1.    2.625]\n",
      " [5.1   3.4   1.5   0.2   1.    2.55 ]\n",
      " [5.1   3.8   1.9   0.4   1.    2.8  ]\n",
      " [5.1   3.8   1.6   0.2   1.    2.675]\n",
      " [5.3   3.7   1.5   0.2   1.    2.675]\n",
      " [7.    3.2   4.7   1.4   2.    4.075]\n",
      " [6.4   3.2   4.5   1.5   2.    3.9  ]\n",
      " [6.9   3.1   4.9   1.5   2.    4.1  ]\n",
      " [5.5   2.3   4.    1.3   2.    3.275]\n",
      " [6.5   2.8   4.6   1.5   2.    3.85 ]\n",
      " [5.7   2.8   4.5   1.3   2.    3.575]\n",
      " [6.3   3.3   4.7   1.6   2.    3.975]\n",
      " [6.6   2.9   4.6   1.3   2.    3.85 ]\n",
      " [5.2   2.7   3.9   1.4   2.    3.3  ]\n",
      " [5.9   3.    4.2   1.5   2.    3.65 ]\n",
      " [6.    2.2   4.    1.    2.    3.3  ]\n",
      " [6.1   2.9   4.7   1.4   2.    3.775]\n",
      " [5.6   2.9   3.6   1.3   2.    3.35 ]\n",
      " [6.7   3.1   4.4   1.4   2.    3.9  ]\n",
      " [5.6   3.    4.5   1.5   2.    3.65 ]\n",
      " [5.8   2.7   4.1   1.    2.    3.4  ]\n",
      " [6.2   2.2   4.5   1.5   2.    3.6  ]\n",
      " [5.6   2.5   3.9   1.1   2.    3.275]\n",
      " [5.9   3.2   4.8   1.8   2.    3.925]\n",
      " [6.1   2.8   4.    1.3   2.    3.55 ]\n",
      " [6.3   2.5   4.9   1.5   2.    3.8  ]\n",
      " [6.1   2.8   4.7   1.2   2.    3.7  ]\n",
      " [6.4   2.9   4.3   1.3   2.    3.725]\n",
      " [6.6   3.    4.4   1.4   2.    3.85 ]\n",
      " [6.8   2.8   4.8   1.4   2.    3.95 ]\n",
      " [6.7   3.    5.    1.7   2.    4.1  ]\n",
      " [6.    2.9   4.5   1.5   2.    3.725]\n",
      " [5.7   2.6   3.5   1.    2.    3.2  ]\n",
      " [5.5   2.4   3.8   1.1   2.    3.2  ]\n",
      " [5.5   2.4   3.7   1.    2.    3.15 ]\n",
      " [5.8   2.7   3.9   1.2   2.    3.4  ]\n",
      " [6.    2.7   5.1   1.6   2.    3.85 ]\n",
      " [5.4   3.    4.5   1.5   2.    3.6  ]\n",
      " [6.    3.4   4.5   1.6   2.    3.875]\n",
      " [6.7   3.1   4.7   1.5   2.    4.   ]\n",
      " [6.3   2.3   4.4   1.3   2.    3.575]\n",
      " [5.6   3.    4.1   1.3   2.    3.5  ]\n",
      " [5.5   2.5   4.    1.3   2.    3.325]\n",
      " [5.5   2.6   4.4   1.2   2.    3.425]\n",
      " [6.1   3.    4.6   1.4   2.    3.775]\n",
      " [5.8   2.6   4.    1.2   2.    3.4  ]\n",
      " [5.6   2.7   4.2   1.3   2.    3.45 ]\n",
      " [5.7   3.    4.2   1.2   2.    3.525]\n",
      " [5.7   2.9   4.2   1.3   2.    3.525]\n",
      " [6.2   2.9   4.3   1.3   2.    3.675]\n",
      " [5.1   2.5   3.    1.1   2.    2.925]\n",
      " [5.7   2.8   4.1   1.3   2.    3.475]\n",
      " [6.3   3.3   6.    2.5   3.    4.525]\n",
      " [5.8   2.7   5.1   1.9   3.    3.875]\n",
      " [7.1   3.    5.9   2.1   3.    4.525]\n",
      " [6.3   2.9   5.6   1.8   3.    4.15 ]\n",
      " [6.5   3.    5.8   2.2   3.    4.375]\n",
      " [7.6   3.    6.6   2.1   3.    4.825]\n",
      " [7.3   2.9   6.3   1.8   3.    4.575]\n",
      " [6.7   2.5   5.8   1.8   3.    4.2  ]\n",
      " [7.2   3.6   6.1   2.5   3.    4.85 ]\n",
      " [6.5   3.2   5.1   2.    3.    4.2  ]\n",
      " [6.4   2.7   5.3   1.9   3.    4.075]\n",
      " [6.8   3.    5.5   2.1   3.    4.35 ]\n",
      " [5.7   2.5   5.    2.    3.    3.8  ]\n",
      " [5.8   2.8   5.1   2.4   3.    4.025]\n",
      " [6.4   3.2   5.3   2.3   3.    4.3  ]\n",
      " [6.5   3.    5.5   1.8   3.    4.2  ]\n",
      " [7.7   3.8   6.7   2.2   3.    5.1  ]\n",
      " [7.7   2.6   6.9   2.3   3.    4.875]\n",
      " [6.    2.2   5.    1.5   3.    3.675]\n",
      " [6.9   3.2   5.7   2.3   3.    4.525]\n",
      " [5.6   2.8   4.9   2.    3.    3.825]\n",
      " [7.7   2.8   6.7   2.    3.    4.8  ]\n",
      " [6.3   2.7   4.9   1.8   3.    3.925]\n",
      " [6.7   3.3   5.7   2.1   3.    4.45 ]\n",
      " [7.2   3.2   6.    1.8   3.    4.55 ]\n",
      " [6.2   2.8   4.8   1.8   3.    3.9  ]\n",
      " [6.1   3.    4.9   1.8   3.    3.95 ]\n",
      " [6.4   2.8   5.6   2.1   3.    4.225]\n",
      " [7.2   3.    5.8   1.6   3.    4.4  ]\n",
      " [7.4   2.8   6.1   1.9   3.    4.55 ]\n",
      " [7.9   3.8   6.4   2.    3.    5.025]\n",
      " [6.4   2.8   5.6   2.2   3.    4.25 ]\n",
      " [6.3   2.8   5.1   1.5   3.    3.925]\n",
      " [6.1   2.6   5.6   1.4   3.    3.925]\n",
      " [7.7   3.    6.1   2.3   3.    4.775]\n",
      " [6.3   3.4   5.6   2.4   3.    4.425]\n",
      " [6.4   3.1   5.5   1.8   3.    4.2  ]\n",
      " [6.    3.    4.8   1.8   3.    3.9  ]\n",
      " [6.9   3.1   5.4   2.1   3.    4.375]\n",
      " [6.7   3.1   5.6   2.4   3.    4.45 ]\n",
      " [6.9   3.1   5.1   2.3   3.    4.35 ]\n",
      " [5.8   2.7   5.1   1.9   3.    3.875]\n",
      " [6.8   3.2   5.9   2.3   3.    4.55 ]\n",
      " [6.7   3.3   5.7   2.5   3.    4.55 ]\n",
      " [6.7   3.    5.2   2.3   3.    4.3  ]\n",
      " [6.3   2.5   5.    1.9   3.    3.925]\n",
      " [6.5   3.    5.2   2.    3.    4.175]\n",
      " [6.2   3.4   5.4   2.3   3.    4.325]\n",
      " [5.9   3.    5.1   1.8   3.    3.95 ]]\n"
     ]
    }
   ],
   "source": [
    "# Correction \n",
    "iris_mean = np.mean(iris[:,:4], axis=1)\n",
    "iris_mean\n",
    "print(np.insert(iris, 5,iris_mean, axis=1))"
   ]
  },
  {
   "cell_type": "code",
   "execution_count": 146,
   "metadata": {},
   "outputs": [
    {
     "name": "stdout",
     "output_type": "stream",
     "text": [
      "[6.12966102 3.04830508 4.31525424 1.43220339 2.22881356]\n",
      "[[5.1        3.5        1.4        0.2        1.        ]\n",
      " [5.4        3.9        1.7        0.4        1.        ]\n",
      " [5.4        3.7        1.5        0.2        1.        ]\n",
      " [5.8        4.         1.2        0.2        1.        ]\n",
      " [5.7        4.4        1.5        0.4        1.        ]\n",
      " [5.4        3.9        1.3        0.4        1.        ]\n",
      " [5.1        3.5        1.4        0.3        1.        ]\n",
      " [5.7        3.8        1.7        0.3        1.        ]\n",
      " [5.1        3.8        1.5        0.3        1.        ]\n",
      " [5.4        3.4        1.7        0.2        1.        ]\n",
      " [5.1        3.7        1.5        0.4        1.        ]\n",
      " [5.1        3.3        1.7        0.5        1.        ]\n",
      " [5.2        3.5        1.5        0.2        1.        ]\n",
      " [5.2        3.4        1.4        0.2        1.        ]\n",
      " [5.4        3.4        1.5        0.4        1.        ]\n",
      " [5.2        4.1        1.5        0.1        1.        ]\n",
      " [5.5        4.2        1.4        0.2        1.        ]\n",
      " [5.5        3.5        1.3        0.2        1.        ]\n",
      " [5.1        3.4        1.5        0.2        1.        ]\n",
      " [5.1        3.8        1.9        0.4        1.        ]\n",
      " [5.1        3.8        1.6        0.2        1.        ]\n",
      " [5.3        3.7        1.5        0.2        1.        ]\n",
      " [7.         3.2        4.7        1.4        2.        ]\n",
      " [6.4        3.2        4.5        1.5        2.        ]\n",
      " [6.9        3.1        4.9        1.5        2.        ]\n",
      " [5.5        2.3        4.         1.3        2.        ]\n",
      " [6.5        2.8        4.6        1.5        2.        ]\n",
      " [5.7        2.8        4.5        1.3        2.        ]\n",
      " [6.3        3.3        4.7        1.6        2.        ]\n",
      " [6.6        2.9        4.6        1.3        2.        ]\n",
      " [5.2        2.7        3.9        1.4        2.        ]\n",
      " [5.9        3.         4.2        1.5        2.        ]\n",
      " [6.         2.2        4.         1.         2.        ]\n",
      " [6.1        2.9        4.7        1.4        2.        ]\n",
      " [5.6        2.9        3.6        1.3        2.        ]\n",
      " [6.7        3.1        4.4        1.4        2.        ]\n",
      " [5.6        3.         4.5        1.5        2.        ]\n",
      " [5.8        2.7        4.1        1.         2.        ]\n",
      " [6.2        2.2        4.5        1.5        2.        ]\n",
      " [5.6        2.5        3.9        1.1        2.        ]\n",
      " [5.9        3.2        4.8        1.8        2.        ]\n",
      " [6.1        2.8        4.         1.3        2.        ]\n",
      " [6.3        2.5        4.9        1.5        2.        ]\n",
      " [6.1        2.8        4.7        1.2        2.        ]\n",
      " [6.4        2.9        4.3        1.3        2.        ]\n",
      " [6.6        3.         4.4        1.4        2.        ]\n",
      " [6.8        2.8        4.8        1.4        2.        ]\n",
      " [6.7        3.         5.         1.7        2.        ]\n",
      " [6.         2.9        4.5        1.5        2.        ]\n",
      " [5.7        2.6        3.5        1.         2.        ]\n",
      " [5.5        2.4        3.8        1.1        2.        ]\n",
      " [5.5        2.4        3.7        1.         2.        ]\n",
      " [5.8        2.7        3.9        1.2        2.        ]\n",
      " [6.         2.7        5.1        1.6        2.        ]\n",
      " [5.4        3.         4.5        1.5        2.        ]\n",
      " [6.         3.4        4.5        1.6        2.        ]\n",
      " [6.7        3.1        4.7        1.5        2.        ]\n",
      " [6.3        2.3        4.4        1.3        2.        ]\n",
      " [5.6        3.         4.1        1.3        2.        ]\n",
      " [5.5        2.5        4.         1.3        2.        ]\n",
      " [5.5        2.6        4.4        1.2        2.        ]\n",
      " [6.1        3.         4.6        1.4        2.        ]\n",
      " [5.8        2.6        4.         1.2        2.        ]\n",
      " [5.6        2.7        4.2        1.3        2.        ]\n",
      " [5.7        3.         4.2        1.2        2.        ]\n",
      " [5.7        2.9        4.2        1.3        2.        ]\n",
      " [6.2        2.9        4.3        1.3        2.        ]\n",
      " [5.1        2.5        3.         1.1        2.        ]\n",
      " [5.7        2.8        4.1        1.3        2.        ]\n",
      " [6.3        3.3        6.         2.5        3.        ]\n",
      " [5.8        2.7        5.1        1.9        3.        ]\n",
      " [7.1        3.         5.9        2.1        3.        ]\n",
      " [6.3        2.9        5.6        1.8        3.        ]\n",
      " [6.5        3.         5.8        2.2        3.        ]\n",
      " [7.6        3.         6.6        2.1        3.        ]\n",
      " [7.3        2.9        6.3        1.8        3.        ]\n",
      " [6.7        2.5        5.8        1.8        3.        ]\n",
      " [7.2        3.6        6.1        2.5        3.        ]\n",
      " [6.5        3.2        5.1        2.         3.        ]\n",
      " [6.4        2.7        5.3        1.9        3.        ]\n",
      " [6.8        3.         5.5        2.1        3.        ]\n",
      " [5.7        2.5        5.         2.         3.        ]\n",
      " [5.8        2.8        5.1        2.4        3.        ]\n",
      " [6.4        3.2        5.3        2.3        3.        ]\n",
      " [6.5        3.         5.5        1.8        3.        ]\n",
      " [7.7        3.8        6.7        2.2        3.        ]\n",
      " [7.7        2.6        6.9        2.3        3.        ]\n",
      " [6.         2.2        5.         1.5        3.        ]\n",
      " [6.9        3.2        5.7        2.3        3.        ]\n",
      " [5.6        2.8        4.9        2.         3.        ]\n",
      " [7.7        2.8        6.7        2.         3.        ]\n",
      " [6.3        2.7        4.9        1.8        3.        ]\n",
      " [6.7        3.3        5.7        2.1        3.        ]\n",
      " [7.2        3.2        6.         1.8        3.        ]\n",
      " [6.2        2.8        4.8        1.8        3.        ]\n",
      " [6.1        3.         4.9        1.8        3.        ]\n",
      " [6.4        2.8        5.6        2.1        3.        ]\n",
      " [7.2        3.         5.8        1.6        3.        ]\n",
      " [7.4        2.8        6.1        1.9        3.        ]\n",
      " [7.9        3.8        6.4        2.         3.        ]\n",
      " [6.4        2.8        5.6        2.2        3.        ]\n",
      " [6.3        2.8        5.1        1.5        3.        ]\n",
      " [6.1        2.6        5.6        1.4        3.        ]\n",
      " [7.7        3.         6.1        2.3        3.        ]\n",
      " [6.3        3.4        5.6        2.4        3.        ]\n",
      " [6.4        3.1        5.5        1.8        3.        ]\n",
      " [6.         3.         4.8        1.8        3.        ]\n",
      " [6.9        3.1        5.4        2.1        3.        ]\n",
      " [6.7        3.1        5.6        2.4        3.        ]\n",
      " [6.9        3.1        5.1        2.3        3.        ]\n",
      " [5.8        2.7        5.1        1.9        3.        ]\n",
      " [6.8        3.2        5.9        2.3        3.        ]\n",
      " [6.7        3.3        5.7        2.5        3.        ]\n",
      " [6.7        3.         5.2        2.3        3.        ]\n",
      " [6.3        2.5        5.         1.9        3.        ]\n",
      " [6.5        3.         5.2        2.         3.        ]\n",
      " [6.2        3.4        5.4        2.3        3.        ]\n",
      " [5.9        3.         5.1        1.8        3.        ]\n",
      " [6.12966102 3.04830508 4.31525424 1.43220339 2.22881356]]\n"
     ]
    }
   ],
   "source": [
    "row_mean = np.mean(iris, axis = 0)\n",
    "print(row_mean)\n",
    "print(np.insert(iris,iris.shape[0],row_mean,axis=0))"
   ]
  },
  {
   "cell_type": "code",
   "execution_count": null,
   "metadata": {},
   "outputs": [],
   "source": []
  }
 ],
 "metadata": {
  "kernelspec": {
   "display_name": "Python 3",
   "language": "python",
   "name": "python3"
  },
  "language_info": {
   "codemirror_mode": {
    "name": "ipython",
    "version": 3
   },
   "file_extension": ".py",
   "mimetype": "text/x-python",
   "name": "python",
   "nbconvert_exporter": "python",
   "pygments_lexer": "ipython3",
   "version": "3.8.5"
  }
 },
 "nbformat": 4,
 "nbformat_minor": 4
}
